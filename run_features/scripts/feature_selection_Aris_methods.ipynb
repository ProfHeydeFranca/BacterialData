{
 "cells": [
  {
   "cell_type": "markdown",
   "id": "2dfaf9b2-ccd9-4b65-b39e-c3b5717e5ec9",
   "metadata": {},
   "source": [
    "# Feature selection based on Aris' methods\n",
    "\n",
    "After removing features based on variance and joining correlated features, the final step of feature selection is to apply classical methods of feature selection. This will be done based on Aris' script."
   ]
  },
  {
   "cell_type": "markdown",
   "id": "f0a80b0a-a1f8-4aec-b6f1-938cce250f1c",
   "metadata": {
    "jp-MarkdownHeadingCollapsed": true
   },
   "source": [
    "## Load input files\n",
    "\n",
    "- Input dataframe containing original features and target variable\n",
    "- Importance scores of different methods"
   ]
  },
  {
   "cell_type": "code",
   "execution_count": 2,
   "id": "7bc6d0c9-6ed3-4093-a7ba-0290d06390af",
   "metadata": {},
   "outputs": [],
   "source": [
    "#Turn off scientific notation\n",
    "import pandas as pd\n",
    "pd.set_option('display.float_format', lambda x: '%.2f' % x)\n",
    "\n",
    "import numpy as np\n",
    "np.set_printoptions(suppress=True,\n",
    "   formatter={'float_kind':'{:0.2f}'.format})\n",
    "\n",
    "#Activate print all activities\n",
    "from IPython.core.interactiveshell import InteractiveShell\n",
    "InteractiveShell.ast_node_interactivity = \"all\""
   ]
  },
  {
   "cell_type": "markdown",
   "id": "78d68f94-23ce-4488-a293-717dea9368fa",
   "metadata": {
    "jp-MarkdownHeadingCollapsed": true
   },
   "source": [
    "### Input dataframe containing original features and target variable"
   ]
  },
  {
   "cell_type": "code",
   "execution_count": 2,
   "id": "a8a94f2e-5f26-40d2-b081-5dd9f212009f",
   "metadata": {},
   "outputs": [
    {
     "data": {
      "text/html": [
       "<div>\n",
       "<style scoped>\n",
       "    .dataframe tbody tr th:only-of-type {\n",
       "        vertical-align: middle;\n",
       "    }\n",
       "\n",
       "    .dataframe tbody tr th {\n",
       "        vertical-align: top;\n",
       "    }\n",
       "\n",
       "    .dataframe thead th {\n",
       "        text-align: right;\n",
       "    }\n",
       "</style>\n",
       "<table border=\"1\" class=\"dataframe\">\n",
       "  <thead>\n",
       "    <tr style=\"text-align: right;\">\n",
       "      <th></th>\n",
       "      <th>COG3696@2</th>\n",
       "      <th>COG0606@2</th>\n",
       "      <th>CorGroup_COG1983@2</th>\n",
       "      <th>CorGroup_COG4771@2</th>\n",
       "      <th>CorGroup_COG0465@2</th>\n",
       "      <th>COG0265@2</th>\n",
       "      <th>COG3270@1</th>\n",
       "      <th>COG1086@2</th>\n",
       "      <th>COG2244@2</th>\n",
       "      <th>COG1596@2</th>\n",
       "      <th>...</th>\n",
       "      <th>arCOG07581@2157</th>\n",
       "      <th>CorGroup_arCOG02142@2157</th>\n",
       "      <th>arCOG00996@1</th>\n",
       "      <th>CorGroup_arCOG07561@1</th>\n",
       "      <th>arCOG01620@2157</th>\n",
       "      <th>CorGroup_arCOG02620@2157</th>\n",
       "      <th>CorGroup_arCOG07873@1</th>\n",
       "      <th>arCOG06281@1</th>\n",
       "      <th>arCOG07786@1</th>\n",
       "      <th>Salinity group</th>\n",
       "    </tr>\n",
       "    <tr>\n",
       "      <th>Best assembly</th>\n",
       "      <th></th>\n",
       "      <th></th>\n",
       "      <th></th>\n",
       "      <th></th>\n",
       "      <th></th>\n",
       "      <th></th>\n",
       "      <th></th>\n",
       "      <th></th>\n",
       "      <th></th>\n",
       "      <th></th>\n",
       "      <th></th>\n",
       "      <th></th>\n",
       "      <th></th>\n",
       "      <th></th>\n",
       "      <th></th>\n",
       "      <th></th>\n",
       "      <th></th>\n",
       "      <th></th>\n",
       "      <th></th>\n",
       "      <th></th>\n",
       "      <th></th>\n",
       "    </tr>\n",
       "  </thead>\n",
       "  <tbody>\n",
       "    <tr>\n",
       "      <th>1123508.3</th>\n",
       "      <td>1</td>\n",
       "      <td>1</td>\n",
       "      <td>0</td>\n",
       "      <td>0</td>\n",
       "      <td>1</td>\n",
       "      <td>1</td>\n",
       "      <td>0</td>\n",
       "      <td>0</td>\n",
       "      <td>1</td>\n",
       "      <td>0</td>\n",
       "      <td>...</td>\n",
       "      <td>0</td>\n",
       "      <td>0</td>\n",
       "      <td>0</td>\n",
       "      <td>0</td>\n",
       "      <td>0</td>\n",
       "      <td>0</td>\n",
       "      <td>0</td>\n",
       "      <td>0</td>\n",
       "      <td>0</td>\n",
       "      <td>0</td>\n",
       "    </tr>\n",
       "    <tr>\n",
       "      <th>1572859.3</th>\n",
       "      <td>1</td>\n",
       "      <td>0</td>\n",
       "      <td>0</td>\n",
       "      <td>0</td>\n",
       "      <td>1</td>\n",
       "      <td>0</td>\n",
       "      <td>0</td>\n",
       "      <td>0</td>\n",
       "      <td>0</td>\n",
       "      <td>0</td>\n",
       "      <td>...</td>\n",
       "      <td>0</td>\n",
       "      <td>0</td>\n",
       "      <td>0</td>\n",
       "      <td>0</td>\n",
       "      <td>0</td>\n",
       "      <td>0</td>\n",
       "      <td>0</td>\n",
       "      <td>0</td>\n",
       "      <td>0</td>\n",
       "      <td>0</td>\n",
       "    </tr>\n",
       "    <tr>\n",
       "      <th>200615.4</th>\n",
       "      <td>1</td>\n",
       "      <td>0</td>\n",
       "      <td>0</td>\n",
       "      <td>1</td>\n",
       "      <td>1</td>\n",
       "      <td>0</td>\n",
       "      <td>0</td>\n",
       "      <td>0</td>\n",
       "      <td>0</td>\n",
       "      <td>0</td>\n",
       "      <td>...</td>\n",
       "      <td>0</td>\n",
       "      <td>0</td>\n",
       "      <td>0</td>\n",
       "      <td>0</td>\n",
       "      <td>0</td>\n",
       "      <td>0</td>\n",
       "      <td>0</td>\n",
       "      <td>0</td>\n",
       "      <td>0</td>\n",
       "      <td>0</td>\n",
       "    </tr>\n",
       "    <tr>\n",
       "      <th>2541725.3</th>\n",
       "      <td>1</td>\n",
       "      <td>1</td>\n",
       "      <td>1</td>\n",
       "      <td>1</td>\n",
       "      <td>1</td>\n",
       "      <td>0</td>\n",
       "      <td>0</td>\n",
       "      <td>1</td>\n",
       "      <td>0</td>\n",
       "      <td>1</td>\n",
       "      <td>...</td>\n",
       "      <td>0</td>\n",
       "      <td>0</td>\n",
       "      <td>0</td>\n",
       "      <td>0</td>\n",
       "      <td>0</td>\n",
       "      <td>0</td>\n",
       "      <td>0</td>\n",
       "      <td>0</td>\n",
       "      <td>0</td>\n",
       "      <td>0</td>\n",
       "    </tr>\n",
       "    <tr>\n",
       "      <th>2724192.3</th>\n",
       "      <td>1</td>\n",
       "      <td>1</td>\n",
       "      <td>0</td>\n",
       "      <td>1</td>\n",
       "      <td>1</td>\n",
       "      <td>0</td>\n",
       "      <td>0</td>\n",
       "      <td>0</td>\n",
       "      <td>0</td>\n",
       "      <td>0</td>\n",
       "      <td>...</td>\n",
       "      <td>0</td>\n",
       "      <td>0</td>\n",
       "      <td>0</td>\n",
       "      <td>0</td>\n",
       "      <td>0</td>\n",
       "      <td>0</td>\n",
       "      <td>0</td>\n",
       "      <td>0</td>\n",
       "      <td>0</td>\n",
       "      <td>0</td>\n",
       "    </tr>\n",
       "  </tbody>\n",
       "</table>\n",
       "<p>5 rows × 3003 columns</p>\n",
       "</div>"
      ],
      "text/plain": [
       "               COG3696@2  COG0606@2  CorGroup_COG1983@2  CorGroup_COG4771@2  \\\n",
       "Best assembly                                                                 \n",
       "1123508.3              1          1                   0                   0   \n",
       "1572859.3              1          0                   0                   0   \n",
       "200615.4               1          0                   0                   1   \n",
       "2541725.3              1          1                   1                   1   \n",
       "2724192.3              1          1                   0                   1   \n",
       "\n",
       "               CorGroup_COG0465@2  COG0265@2  COG3270@1  COG1086@2  COG2244@2  \\\n",
       "Best assembly                                                                   \n",
       "1123508.3                       1          1          0          0          1   \n",
       "1572859.3                       1          0          0          0          0   \n",
       "200615.4                        1          0          0          0          0   \n",
       "2541725.3                       1          0          0          1          0   \n",
       "2724192.3                       1          0          0          0          0   \n",
       "\n",
       "               COG1596@2  ...  arCOG07581@2157  CorGroup_arCOG02142@2157  \\\n",
       "Best assembly             ...                                              \n",
       "1123508.3              0  ...                0                         0   \n",
       "1572859.3              0  ...                0                         0   \n",
       "200615.4               0  ...                0                         0   \n",
       "2541725.3              1  ...                0                         0   \n",
       "2724192.3              0  ...                0                         0   \n",
       "\n",
       "               arCOG00996@1  CorGroup_arCOG07561@1  arCOG01620@2157  \\\n",
       "Best assembly                                                         \n",
       "1123508.3                 0                      0                0   \n",
       "1572859.3                 0                      0                0   \n",
       "200615.4                  0                      0                0   \n",
       "2541725.3                 0                      0                0   \n",
       "2724192.3                 0                      0                0   \n",
       "\n",
       "               CorGroup_arCOG02620@2157  CorGroup_arCOG07873@1  arCOG06281@1  \\\n",
       "Best assembly                                                                  \n",
       "1123508.3                             0                      0             0   \n",
       "1572859.3                             0                      0             0   \n",
       "200615.4                              0                      0             0   \n",
       "2541725.3                             0                      0             0   \n",
       "2724192.3                             0                      0             0   \n",
       "\n",
       "               arCOG07786@1  Salinity group  \n",
       "Best assembly                                \n",
       "1123508.3                 0               0  \n",
       "1572859.3                 0               0  \n",
       "200615.4                  0               0  \n",
       "2541725.3                 0               0  \n",
       "2724192.3                 0               0  \n",
       "\n",
       "[5 rows x 3003 columns]"
      ]
     },
     "execution_count": 2,
     "metadata": {},
     "output_type": "execute_result"
    }
   ],
   "source": [
    "import sys\n",
    "import pickle\n",
    "import zstandard\n",
    "import pandas as pd\n",
    "import numpy as np\n",
    "import datetime\n",
    "\n",
    "#Load original dataframe\n",
    "path = '../join_highly_correlated/chosen_files/'\n",
    "\n",
    "#folder = 'df_salt_kmer9Classification'\n",
    "#file = path + folder + '_0.9000000000000001.pickle.zst'\n",
    "\n",
    "#folder = 'df_salt_kmer9Regression'\n",
    "#file = path + folder + '_0.9500000000000002.pickle.zst'\n",
    "\n",
    "#folder = 'df_salt_gene-familiesRegression'\n",
    "#file = path + folder + '_0.9000000000000001.pickle.zst'\n",
    "\n",
    "folder = 'df_salt_gene-familiesClassification'\n",
    "file = path + folder + '_0.7.pickle.zst'\n",
    "\n",
    "#Define target group:\n",
    "group = 'Salinity group'\n",
    "#group = 'Salt all mean'\n",
    "#group = 'Temp group'\n",
    "#group = 'Temp all mean'\n",
    "#group = 'pH all mean'\n",
    "#group = 'Oxygen tolerance'\n",
    "\n",
    "with zstandard.open(file, 'rb') as f:\n",
    "\tdf = pickle.load(f)\n",
    "\n",
    "df.head()"
   ]
  },
  {
   "cell_type": "markdown",
   "id": "6480473e-ea66-4191-893a-33e5efa76e6f",
   "metadata": {
    "jp-MarkdownHeadingCollapsed": true
   },
   "source": [
    "### Importance scores of different methods"
   ]
  },
  {
   "cell_type": "code",
   "execution_count": 57,
   "id": "1c22a197-637f-4711-95a8-cbfe4623ddb0",
   "metadata": {},
   "outputs": [
    {
     "name": "stdout",
     "output_type": "stream",
     "text": [
      "Read file: ../feature_selection/df_salt_gene-familiesClassification/Importance_scores_L2_abiotic_factors.tsv\n"
     ]
    },
    {
     "data": {
      "text/html": [
       "<div>\n",
       "<style scoped>\n",
       "    .dataframe tbody tr th:only-of-type {\n",
       "        vertical-align: middle;\n",
       "    }\n",
       "\n",
       "    .dataframe tbody tr th {\n",
       "        vertical-align: top;\n",
       "    }\n",
       "\n",
       "    .dataframe thead th {\n",
       "        text-align: right;\n",
       "    }\n",
       "</style>\n",
       "<table border=\"1\" class=\"dataframe\">\n",
       "  <thead>\n",
       "    <tr style=\"text-align: right;\">\n",
       "      <th></th>\n",
       "      <th>Feature</th>\n",
       "      <th>Importance_score</th>\n",
       "    </tr>\n",
       "  </thead>\n",
       "  <tbody>\n",
       "    <tr>\n",
       "      <th>3001</th>\n",
       "      <td>COG3182@1</td>\n",
       "      <td>3001</td>\n",
       "    </tr>\n",
       "    <tr>\n",
       "      <th>3000</th>\n",
       "      <td>COG3004@2</td>\n",
       "      <td>3000</td>\n",
       "    </tr>\n",
       "    <tr>\n",
       "      <th>2999</th>\n",
       "      <td>COG0784@2</td>\n",
       "      <td>2999</td>\n",
       "    </tr>\n",
       "    <tr>\n",
       "      <th>2998</th>\n",
       "      <td>COG5276@2</td>\n",
       "      <td>2998</td>\n",
       "    </tr>\n",
       "    <tr>\n",
       "      <th>2997</th>\n",
       "      <td>COG1674@1</td>\n",
       "      <td>2997</td>\n",
       "    </tr>\n",
       "  </tbody>\n",
       "</table>\n",
       "</div>"
      ],
      "text/plain": [
       "        Feature  Importance_score\n",
       "3001  COG3182@1              3001\n",
       "3000  COG3004@2              3000\n",
       "2999  COG0784@2              2999\n",
       "2998  COG5276@2              2998\n",
       "2997  COG1674@1              2997"
      ]
     },
     "execution_count": 57,
     "metadata": {},
     "output_type": "execute_result"
    }
   ],
   "source": [
    "#method = 'tree-based'\n",
    "method = 'L2'\n",
    "\n",
    "#Load importance scores\n",
    "#folder2 = '../feature_selection/' + 'df_salt_kmer9Classification' + '/' \n",
    "\n",
    "folder2 = '../feature_selection/' + folder + '/'\n",
    "file2 = folder2 + 'Importance_scores_' + method + '_abiotic_factors.tsv'\n",
    "\n",
    "df_scores = pd.read_csv(file2, sep = '\\t')\n",
    "df_scores = df_scores.sort_values(by='Importance_score', ascending=False)\n",
    "\n",
    "print('Read file:', file2)\n",
    "\n",
    "df_scores.head()"
   ]
  },
  {
   "cell_type": "markdown",
   "id": "3baa754a-bab8-4c87-b738-f51fdff24fe0",
   "metadata": {
    "jp-MarkdownHeadingCollapsed": true
   },
   "source": [
    "# Save files with different number of features: DIFFERENT SELECTION METHODS"
   ]
  },
  {
   "cell_type": "code",
   "execution_count": 58,
   "id": "e70d1914-9589-47f9-9e87-0b504e74dec4",
   "metadata": {},
   "outputs": [
    {
     "name": "stdout",
     "output_type": "stream",
     "text": [
      "Producing files with different number of features for method:  L2 and file ../feature_selection/df_salt_gene-familiesClassification/Importance_scores_L2_abiotic_factors.tsv\n"
     ]
    },
    {
     "data": {
      "text/plain": [
       "(932, 51)"
      ]
     },
     "execution_count": 58,
     "metadata": {},
     "output_type": "execute_result"
    },
    {
     "name": "stdout",
     "output_type": "stream",
     "text": [
      " Saved ../feature_selection/df_salt_gene-familiesClassification/df_L250.csv\n"
     ]
    },
    {
     "data": {
      "text/plain": [
       "(932, 101)"
      ]
     },
     "execution_count": 58,
     "metadata": {},
     "output_type": "execute_result"
    },
    {
     "name": "stdout",
     "output_type": "stream",
     "text": [
      " Saved ../feature_selection/df_salt_gene-familiesClassification/df_L2100.csv\n"
     ]
    },
    {
     "data": {
      "text/plain": [
       "(932, 151)"
      ]
     },
     "execution_count": 58,
     "metadata": {},
     "output_type": "execute_result"
    },
    {
     "name": "stdout",
     "output_type": "stream",
     "text": [
      " Saved ../feature_selection/df_salt_gene-familiesClassification/df_L2150.csv\n"
     ]
    },
    {
     "data": {
      "text/plain": [
       "(932, 201)"
      ]
     },
     "execution_count": 58,
     "metadata": {},
     "output_type": "execute_result"
    },
    {
     "name": "stdout",
     "output_type": "stream",
     "text": [
      " Saved ../feature_selection/df_salt_gene-familiesClassification/df_L2200.csv\n"
     ]
    },
    {
     "data": {
      "text/plain": [
       "(932, 251)"
      ]
     },
     "execution_count": 58,
     "metadata": {},
     "output_type": "execute_result"
    },
    {
     "name": "stdout",
     "output_type": "stream",
     "text": [
      " Saved ../feature_selection/df_salt_gene-familiesClassification/df_L2250.csv\n"
     ]
    },
    {
     "data": {
      "text/plain": [
       "(932, 301)"
      ]
     },
     "execution_count": 58,
     "metadata": {},
     "output_type": "execute_result"
    },
    {
     "name": "stdout",
     "output_type": "stream",
     "text": [
      " Saved ../feature_selection/df_salt_gene-familiesClassification/df_L2300.csv\n"
     ]
    }
   ],
   "source": [
    "print('Producing files with different number of features for method: ', method, 'and file', file2)\n",
    "\n",
    "#Loop to get the top scored features from 50 to 300\n",
    "for i in range(50, 301, 50):  \n",
    "    \n",
    "    #Get the top 'i' rows\n",
    "    top_feat = df_scores.head(i)['Feature'].tolist()\n",
    "    \n",
    "    #Get a subset of a dataframe with columns matchin ids from top_feat\n",
    "    df_subset = df[top_feat]\n",
    "\n",
    "    #Add the target column of df to df_subset\n",
    "    last_col = df.iloc[:, -1]\n",
    "    df_subset = pd.concat([df_subset, last_col], axis=1)\n",
    "    \n",
    "    #df_subset.head()\n",
    "    df_subset.shape\n",
    "\n",
    "    print(' Saved', folder2 + 'df_' + method + str(i) + '.csv')\n",
    "    df_subset.to_csv(folder2 + 'df_' + method + str(i) + '.csv', index=True) "
   ]
  },
  {
   "cell_type": "markdown",
   "id": "831ccee3-e48f-4deb-b128-eee63a7cce50",
   "metadata": {
    "jp-MarkdownHeadingCollapsed": true
   },
   "source": [
    "# Save files with different number of features: RANDOM SET/negative control"
   ]
  },
  {
   "cell_type": "code",
   "execution_count": 3,
   "id": "31bef046-9151-4d35-8be6-7d43d2ed6587",
   "metadata": {},
   "outputs": [
    {
     "name": "stdout",
     "output_type": "stream",
     "text": [
      "Producing files with different number of features for method:  random\n"
     ]
    },
    {
     "data": {
      "text/plain": [
       "(932, 51)"
      ]
     },
     "execution_count": 3,
     "metadata": {},
     "output_type": "execute_result"
    },
    {
     "name": "stdout",
     "output_type": "stream",
     "text": [
      " Saved ../feature_selection/df_salt_gene-familiesClassification/df_random50.csv\n"
     ]
    },
    {
     "data": {
      "text/plain": [
       "(932, 101)"
      ]
     },
     "execution_count": 3,
     "metadata": {},
     "output_type": "execute_result"
    },
    {
     "name": "stdout",
     "output_type": "stream",
     "text": [
      " Saved ../feature_selection/df_salt_gene-familiesClassification/df_random100.csv\n"
     ]
    },
    {
     "data": {
      "text/plain": [
       "(932, 151)"
      ]
     },
     "execution_count": 3,
     "metadata": {},
     "output_type": "execute_result"
    },
    {
     "name": "stdout",
     "output_type": "stream",
     "text": [
      " Saved ../feature_selection/df_salt_gene-familiesClassification/df_random150.csv\n"
     ]
    },
    {
     "data": {
      "text/plain": [
       "(932, 201)"
      ]
     },
     "execution_count": 3,
     "metadata": {},
     "output_type": "execute_result"
    },
    {
     "name": "stdout",
     "output_type": "stream",
     "text": [
      " Saved ../feature_selection/df_salt_gene-familiesClassification/df_random200.csv\n"
     ]
    },
    {
     "data": {
      "text/plain": [
       "(932, 251)"
      ]
     },
     "execution_count": 3,
     "metadata": {},
     "output_type": "execute_result"
    },
    {
     "name": "stdout",
     "output_type": "stream",
     "text": [
      " Saved ../feature_selection/df_salt_gene-familiesClassification/df_random250.csv\n"
     ]
    },
    {
     "data": {
      "text/plain": [
       "(932, 301)"
      ]
     },
     "execution_count": 3,
     "metadata": {},
     "output_type": "execute_result"
    },
    {
     "name": "stdout",
     "output_type": "stream",
     "text": [
      " Saved ../feature_selection/df_salt_gene-familiesClassification/df_random300.csv\n"
     ]
    }
   ],
   "source": [
    "method = 'random'\n",
    "\n",
    "folder2 = '../feature_selection/' + folder + '/'\n",
    "\n",
    "print('Producing files with different number of features for method: ', method)\n",
    "\n",
    "#Separar as features (X) e o grupos (y)\n",
    "X = df.iloc[:, :-1]  \n",
    "y = df.iloc[:, -1] \n",
    "\n",
    "#Loop to get the top scored features from 50 to 300\n",
    "for i in range(50, 301, 50):  \n",
    "        \n",
    "    #Get a subset of dataframe X with i number of columns \n",
    "    df_subset = X.sample(n=i, axis=1)  # axis=1 is for columns\n",
    "\n",
    "    #Add the target column of df to df_subset\n",
    "    df_subset = pd.concat([df_subset, y], axis=1)\n",
    "    \n",
    "    #df_subset.head()\n",
    "    df_subset.shape\n",
    "\n",
    "    print(' Saved', folder2 + 'df_' + method + str(i) + '.csv')\n",
    "    df_subset.to_csv(folder2 + 'df_' + method + str(i) + '.csv', index=True) "
   ]
  },
  {
   "cell_type": "markdown",
   "id": "9d6d4453-0033-4859-9271-123bab4f6d4f",
   "metadata": {
    "jp-MarkdownHeadingCollapsed": true
   },
   "source": [
    "# Benchmark"
   ]
  },
  {
   "cell_type": "code",
   "execution_count": 5,
   "id": "22dabde3-cafa-42ee-ae12-b5acdc84c2f7",
   "metadata": {},
   "outputs": [],
   "source": [
    "#Importing packages\n",
    "import pandas as pd\n",
    "import numpy as np\n",
    "from scipy import stats\n",
    "from sklearn.model_selection import train_test_split\n",
    "from sklearn import metrics\n",
    "import sys"
   ]
  },
  {
   "cell_type": "markdown",
   "id": "cf5d9a9f-fd3b-4b64-a811-0a849a5bd987",
   "metadata": {
    "jp-MarkdownHeadingCollapsed": true
   },
   "source": [
    "## Classification"
   ]
  },
  {
   "cell_type": "code",
   "execution_count": 6,
   "id": "c582615c-a910-407c-962d-c78fdaf67e22",
   "metadata": {},
   "outputs": [
    {
     "name": "stdout",
     "output_type": "stream",
     "text": [
      "Started script on:  2024-10-30 15:39:17.288737\n",
      "Method:  random\n",
      "Opening files named: ../feature_selection/df_salt_gene-familiesClassification/df_randomi.csv\n",
      "Calculating metrics for threshold 50 of filtering low-variance features...\n",
      "  Shape of input data: (932, 51)\n",
      "  Shape of training data: (745, 50)\n",
      " Iteration 1 has as mean F1 value = 0.663 All values: [0.62 0.66 0.67 0.68 0.69]\n",
      " Iteration 2 has as mean F1 value = 0.666 All values: [0.61 0.69 0.65 0.69 0.69]\n",
      " Iteration 3 has as mean F1 value = 0.665 All values: [0.60 0.65 0.68 0.69 0.70]\n",
      " Iteration 4 has as mean F1 value = 0.666 All values: [0.61 0.68 0.68 0.69 0.67]\n",
      " Iteration 5 has as mean F1 value = 0.657 All values: [0.62 0.68 0.63 0.67 0.69]\n",
      " Iteration 6 has as mean F1 value = 0.663 All values: [0.61 0.68 0.64 0.71 0.67]\n",
      " Iteration 7 has as mean F1 value = 0.663 All values: [0.62 0.69 0.65 0.67 0.68]\n",
      " Iteration 8 has as mean F1 value = 0.655 All values: [0.59 0.68 0.64 0.68 0.69]\n",
      " Iteration 9 has as mean F1 value = 0.667 All values: [0.60 0.69 0.63 0.71 0.70]\n",
      " Iteration 10 has as mean F1 value = 0.671 All values: [0.62 0.70 0.65 0.69 0.69]\n",
      " Mean F1 score of cross-validation for all iterations: 0.664\n",
      "Finished 10 iterations on:  2024-10-30 15:39:20.085434\n",
      "Calculating metrics for threshold 100 of filtering low-variance features...\n",
      "  Shape of input data: (932, 101)\n",
      "  Shape of training data: (745, 100)\n",
      " Iteration 1 has as mean F1 value = 0.76 All values: [0.72 0.80 0.76 0.77 0.75]\n",
      " Iteration 2 has as mean F1 value = 0.756 All values: [0.74 0.78 0.74 0.78 0.73]\n",
      " Iteration 3 has as mean F1 value = 0.76 All values: [0.74 0.78 0.77 0.78 0.74]\n",
      " Iteration 4 has as mean F1 value = 0.762 All values: [0.73 0.79 0.77 0.81 0.72]\n",
      " Iteration 5 has as mean F1 value = 0.749 All values: [0.70 0.77 0.74 0.78 0.75]\n",
      " Iteration 6 has as mean F1 value = 0.762 All values: [0.70 0.78 0.79 0.77 0.77]\n",
      " Iteration 7 has as mean F1 value = 0.763 All values: [0.71 0.80 0.77 0.77 0.76]\n",
      " Iteration 8 has as mean F1 value = 0.768 All values: [0.74 0.79 0.77 0.77 0.77]\n",
      " Iteration 9 has as mean F1 value = 0.76 All values: [0.69 0.79 0.76 0.80 0.76]\n",
      " Iteration 10 has as mean F1 value = 0.76 All values: [0.72 0.79 0.76 0.79 0.73]\n",
      " Mean F1 score of cross-validation for all iterations: 0.76\n",
      "Finished 10 iterations on:  2024-10-30 15:39:22.328089\n",
      "Calculating metrics for threshold 150 of filtering low-variance features...\n",
      "  Shape of input data: (932, 151)\n",
      "  Shape of training data: (745, 150)\n",
      " Iteration 1 has as mean F1 value = 0.753 All values: [0.72 0.79 0.73 0.74 0.78]\n",
      " Iteration 2 has as mean F1 value = 0.736 All values: [0.70 0.77 0.72 0.76 0.73]\n",
      " Iteration 3 has as mean F1 value = 0.741 All values: [0.68 0.78 0.77 0.77 0.72]\n",
      " Iteration 4 has as mean F1 value = 0.74 All values: [0.70 0.81 0.71 0.73 0.75]\n",
      " Iteration 5 has as mean F1 value = 0.744 All values: [0.68 0.76 0.75 0.73 0.79]\n",
      " Iteration 6 has as mean F1 value = 0.743 All values: [0.72 0.79 0.72 0.72 0.76]\n",
      " Iteration 7 has as mean F1 value = 0.742 All values: [0.72 0.80 0.74 0.76 0.69]\n",
      " Iteration 8 has as mean F1 value = 0.758 All values: [0.69 0.81 0.76 0.77 0.77]\n",
      " Iteration 9 has as mean F1 value = 0.746 All values: [0.69 0.78 0.74 0.76 0.76]\n",
      " Iteration 10 has as mean F1 value = 0.733 All values: [0.68 0.77 0.71 0.76 0.74]\n",
      " Mean F1 score of cross-validation for all iterations: 0.743\n",
      "Finished 10 iterations on:  2024-10-30 15:39:24.803097\n",
      "Calculating metrics for threshold 200 of filtering low-variance features...\n",
      "  Shape of input data: (932, 201)\n",
      "  Shape of training data: (745, 200)\n",
      " Iteration 1 has as mean F1 value = 0.794 All values: [0.76 0.81 0.78 0.79 0.81]\n",
      " Iteration 2 has as mean F1 value = 0.767 All values: [0.71 0.83 0.76 0.79 0.74]\n",
      " Iteration 3 has as mean F1 value = 0.779 All values: [0.76 0.78 0.74 0.80 0.81]\n",
      " Iteration 4 has as mean F1 value = 0.782 All values: [0.77 0.82 0.76 0.82 0.75]\n",
      " Iteration 5 has as mean F1 value = 0.781 All values: [0.76 0.80 0.78 0.79 0.79]\n",
      " Iteration 6 has as mean F1 value = 0.798 All values: [0.78 0.79 0.80 0.81 0.81]\n",
      " Iteration 7 has as mean F1 value = 0.789 All values: [0.76 0.79 0.81 0.82 0.78]\n",
      " Iteration 8 has as mean F1 value = 0.789 All values: [0.77 0.79 0.78 0.81 0.80]\n",
      " Iteration 9 has as mean F1 value = 0.781 All values: [0.76 0.81 0.77 0.79 0.78]\n",
      " Iteration 10 has as mean F1 value = 0.795 All values: [0.77 0.81 0.79 0.81 0.80]\n",
      " Mean F1 score of cross-validation for all iterations: 0.786\n",
      "Finished 10 iterations on:  2024-10-30 15:39:28.400663\n",
      "Calculating metrics for threshold 250 of filtering low-variance features...\n",
      "  Shape of input data: (932, 251)\n",
      "  Shape of training data: (745, 250)\n",
      " Iteration 1 has as mean F1 value = 0.829 All values: [0.82 0.87 0.81 0.79 0.85]\n",
      " Iteration 2 has as mean F1 value = 0.824 All values: [0.81 0.83 0.80 0.81 0.86]\n",
      " Iteration 3 has as mean F1 value = 0.822 All values: [0.82 0.85 0.81 0.80 0.84]\n",
      " Iteration 4 has as mean F1 value = 0.827 All values: [0.81 0.86 0.82 0.82 0.83]\n",
      " Iteration 5 has as mean F1 value = 0.828 All values: [0.82 0.86 0.83 0.81 0.82]\n",
      " Iteration 6 has as mean F1 value = 0.827 All values: [0.80 0.86 0.81 0.83 0.83]\n",
      " Iteration 7 has as mean F1 value = 0.819 All values: [0.81 0.86 0.79 0.79 0.85]\n",
      " Iteration 8 has as mean F1 value = 0.826 All values: [0.83 0.86 0.81 0.77 0.86]\n",
      " Iteration 9 has as mean F1 value = 0.826 All values: [0.80 0.87 0.81 0.80 0.85]\n",
      " Iteration 10 has as mean F1 value = 0.824 All values: [0.81 0.86 0.79 0.81 0.85]\n",
      " Mean F1 score of cross-validation for all iterations: 0.825\n",
      "Finished 10 iterations on:  2024-10-30 15:39:32.065378\n",
      "Calculating metrics for threshold 300 of filtering low-variance features...\n",
      "  Shape of input data: (932, 301)\n",
      "  Shape of training data: (745, 300)\n",
      " Iteration 1 has as mean F1 value = 0.814 All values: [0.78 0.85 0.81 0.85 0.79]\n",
      " Iteration 2 has as mean F1 value = 0.801 All values: [0.74 0.84 0.81 0.83 0.79]\n",
      " Iteration 3 has as mean F1 value = 0.809 All values: [0.77 0.84 0.80 0.83 0.79]\n",
      " Iteration 4 has as mean F1 value = 0.801 All values: [0.79 0.85 0.77 0.83 0.77]\n",
      " Iteration 5 has as mean F1 value = 0.797 All values: [0.77 0.83 0.80 0.83 0.76]\n",
      " Iteration 6 has as mean F1 value = 0.812 All values: [0.79 0.83 0.82 0.85 0.77]\n",
      " Iteration 7 has as mean F1 value = 0.821 All values: [0.79 0.87 0.81 0.85 0.79]\n",
      " Iteration 8 has as mean F1 value = 0.809 All values: [0.76 0.86 0.80 0.84 0.78]\n",
      " Iteration 9 has as mean F1 value = 0.809 All values: [0.76 0.84 0.81 0.84 0.80]\n",
      " Iteration 10 has as mean F1 value = 0.817 All values: [0.80 0.84 0.81 0.85 0.78]\n",
      " Mean F1 score of cross-validation for all iterations: 0.809\n",
      "Finished 10 iterations on:  2024-10-30 15:39:35.780879\n"
     ]
    }
   ],
   "source": [
    "#CLASSIFICATION #########################################\n",
    "\n",
    "#Based on: Benchmark of \"remove_zero-variance.ipynb\"\n",
    "\n",
    "#Cross-validation packages\n",
    "from sklearn.model_selection import StratifiedKFold\n",
    "from sklearn.model_selection import cross_validate\n",
    "import statistics\n",
    "from imblearn.under_sampling import RandomUnderSampler\n",
    "from sklearn.ensemble import RandomForestClassifier\n",
    "\n",
    "n_jobs = 5\n",
    "f1_df = pd.DataFrame()\n",
    "\n",
    "print(\"Started script on: \", datetime.datetime.now())\n",
    "print('Method: ', method)\n",
    "print('Opening files named:', folder2 + 'df_' + method + 'i' + '.csv')\n",
    "\n",
    "#Loop for different number of features\n",
    "#for i in range(0, 301, 50):  \n",
    "for i in range(50, 301, 50):      \n",
    "\n",
    "    if(i == 0):\n",
    "        i = 'no filter'\n",
    "        tmp = df\n",
    "    else:\n",
    "        tmp = pd.read_csv(folder2 + 'df_' + method + str(i) + '.csv', index_col = 0) \n",
    "    \n",
    "    print('Calculating metrics for threshold', i, 'of filtering low-variance features...')\n",
    "    print('  Shape of input data:', tmp.shape)\n",
    "    \n",
    "    list_means = []\n",
    "\n",
    "    #Separating features from group/target variable\n",
    "    X = tmp.drop(group, axis=1)\n",
    "    y = tmp[group]\n",
    "\n",
    "    #I included random_state to make this command reproducible\n",
    "    #Source: https://scikit-learn.org/stable/modules/generated/sklearn.model_selection.train_test_split.html\n",
    "    X, X_test, y, y_test = train_test_split(X, y, test_size = 0.2, stratify = y, shuffle=True, random_state = 99)\n",
    "    \n",
    "    #UNDERSAMPLING has already been done in the variance filtering!\n",
    "    \n",
    "    print('  Shape of training data:', X.shape)\n",
    "    \n",
    "    #Do 10 iterations for every different threshold\n",
    "    for it in range(1, 11, 1):\n",
    "#    for it in range(1, 3, 1):        \n",
    "\n",
    "        #Cross-validation with seed that changes with every iteration. The same split is desired per thresholds, since I want to\n",
    "        # compare them. However within iterations, I want different splits\n",
    "        kfold = StratifiedKFold(n_splits=5, shuffle=True, random_state=it)\n",
    "        #I ran salt, gene-families without seed, and the results were extremely similar\n",
    "    \n",
    "        #Instantiate Random Forest model\n",
    "        clf = RandomForestClassifier()\n",
    "\n",
    "        scoring = ['f1']\n",
    "        output = cross_validate(clf, X, y, cv=5, scoring = scoring, return_train_score=False, return_estimator =True, n_jobs=n_jobs)\n",
    "        #print(output)\n",
    "        #{'fit_time': array([0.68, 0.73, 0.72, 0.68, 0.61]), 'score_time': array([0.12, 0.11, 0.11, 0.19, 0.11]), \n",
    "        #'estimator': [RandomForestClassifier(), RandomForestClassifier(), RandomForestClassifier(), RandomForestClassifier(), RandomForestClassifier()], \n",
    "        #'test_f1': array([0.91, 0.90, 0.88, 0.75, 0.68])}\n",
    "        \n",
    "        #Get mean F1 for this iteration\n",
    "        mean = statistics.mean(output['test_f1'])\n",
    "        #Add mean F1 to vector containing results of all iterations\n",
    "        list_means.append(mean)\n",
    "\n",
    "        print(' Iteration', it, 'has as mean F1 value =', round(mean, 3), 'All values:', output['test_f1'])\n",
    "    \n",
    "    print(' Mean F1 score of cross-validation for all iterations:', round(statistics.mean(list_means), 3))\n",
    "    print(\"Finished 10 iterations on: \", datetime.datetime.now())\n",
    "    \n",
    "    #Add new values\n",
    "    f1_df[i] = list_means"
   ]
  },
  {
   "cell_type": "markdown",
   "id": "eaca3615-df65-46fb-b7af-d60324f328a2",
   "metadata": {
    "jp-MarkdownHeadingCollapsed": true
   },
   "source": [
    "## Regression"
   ]
  },
  {
   "cell_type": "code",
   "execution_count": 28,
   "id": "1feb3cbe-bd79-42b3-b353-5bc75ac6c322",
   "metadata": {},
   "outputs": [
    {
     "name": "stdout",
     "output_type": "stream",
     "text": [
      "Started script on:  2024-10-30 15:35:21.821287\n",
      "Method:  random\n",
      "Opening files named: ../feature_selection/df_salt_gene-familiesRegression/df_randomi.csv\n",
      "Calculating metrics for threshold 50 of filtering low-variance features...\n",
      "  Shape of input data: (3418, 51)\n",
      "  Shape of training data: (2734, 50)\n"
     ]
    },
    {
     "name": "stderr",
     "output_type": "stream",
     "text": [
      "/home/bia/.local/lib/python3.12/site-packages/joblib/externals/loky/process_executor.py:752: UserWarning: A worker stopped while some jobs were given to the executor. This can be caused by a too short worker timeout or by a memory leak.\n",
      "  warnings.warn(\n"
     ]
    },
    {
     "name": "stdout",
     "output_type": "stream",
     "text": [
      " Iteration 1 has as mean absolute error = -24.382 All errors: [-23.82 -23.05 -23.58 -26.49 -24.98]\n",
      " Iteration 2 has as mean absolute error = -24.349 All errors: [-23.79 -22.97 -23.57 -26.50 -24.91]\n",
      " Iteration 3 has as mean absolute error = -24.373 All errors: [-23.84 -23.05 -23.57 -26.50 -24.90]\n",
      " Iteration 4 has as mean absolute error = -24.348 All errors: [-23.78 -22.97 -23.56 -26.50 -24.92]\n",
      " Iteration 5 has as mean absolute error = -24.358 All errors: [-23.80 -23.02 -23.55 -26.56 -24.87]\n",
      " Iteration 6 has as mean absolute error = -24.352 All errors: [-23.82 -22.95 -23.59 -26.51 -24.89]\n",
      " Iteration 7 has as mean absolute error = -24.377 All errors: [-23.81 -23.02 -23.60 -26.56 -24.90]\n",
      " Iteration 8 has as mean absolute error = -24.373 All errors: [-23.82 -23.07 -23.58 -26.52 -24.87]\n",
      " Iteration 9 has as mean absolute error = -24.372 All errors: [-23.84 -23.01 -23.57 -26.51 -24.93]\n",
      " Iteration 10 has as mean absolute error = -24.369 All errors: [-23.79 -23.01 -23.61 -26.48 -24.96]\n",
      " Mean absolute error of cross-validation for all iterations: -24.365\n",
      "Calculating metrics for threshold 100 of filtering low-variance features...\n",
      "  Shape of input data: (3418, 101)\n",
      "  Shape of training data: (2734, 100)\n",
      " Iteration 1 has as mean absolute error = -23.663 All errors: [-23.10 -23.30 -23.34 -25.19 -23.38]\n",
      " Iteration 2 has as mean absolute error = -23.681 All errors: [-23.14 -23.41 -23.28 -25.24 -23.33]\n",
      " Iteration 3 has as mean absolute error = -23.616 All errors: [-23.07 -23.34 -23.12 -25.27 -23.28]\n",
      " Iteration 4 has as mean absolute error = -23.671 All errors: [-23.11 -23.42 -23.42 -25.15 -23.27]\n",
      " Iteration 5 has as mean absolute error = -23.714 All errors: [-23.24 -23.38 -23.29 -25.23 -23.45]\n",
      " Iteration 6 has as mean absolute error = -23.682 All errors: [-23.13 -23.33 -23.23 -25.38 -23.34]\n",
      " Iteration 7 has as mean absolute error = -23.678 All errors: [-23.00 -23.35 -23.43 -25.20 -23.42]\n",
      " Iteration 8 has as mean absolute error = -23.733 All errors: [-23.14 -23.38 -23.25 -25.31 -23.58]\n",
      " Iteration 9 has as mean absolute error = -23.675 All errors: [-23.16 -23.32 -23.25 -25.26 -23.38]\n",
      " Iteration 10 has as mean absolute error = -23.716 All errors: [-23.06 -23.50 -23.29 -25.38 -23.35]\n",
      " Mean absolute error of cross-validation for all iterations: -23.683\n",
      "Calculating metrics for threshold 150 of filtering low-variance features...\n",
      "  Shape of input data: (3418, 151)\n",
      "  Shape of training data: (2734, 150)\n",
      " Iteration 1 has as mean absolute error = -21.607 All errors: [-21.49 -20.66 -21.86 -22.39 -21.64]\n",
      " Iteration 2 has as mean absolute error = -21.62 All errors: [-21.66 -20.87 -21.72 -22.17 -21.67]\n",
      " Iteration 3 has as mean absolute error = -21.554 All errors: [-21.74 -20.70 -21.63 -22.22 -21.48]\n",
      " Iteration 4 has as mean absolute error = -21.56 All errors: [-21.57 -20.67 -21.67 -22.31 -21.58]\n",
      " Iteration 5 has as mean absolute error = -21.648 All errors: [-21.64 -20.86 -21.76 -22.36 -21.61]\n",
      " Iteration 6 has as mean absolute error = -21.598 All errors: [-21.54 -20.82 -21.82 -22.30 -21.52]\n",
      " Iteration 7 has as mean absolute error = -21.616 All errors: [-21.48 -20.89 -21.73 -22.19 -21.79]\n",
      " Iteration 8 has as mean absolute error = -21.593 All errors: [-21.54 -20.90 -21.68 -22.33 -21.52]\n",
      " Iteration 9 has as mean absolute error = -21.61 All errors: [-21.65 -20.71 -21.88 -22.30 -21.52]\n",
      " Iteration 10 has as mean absolute error = -21.617 All errors: [-21.73 -20.79 -21.76 -22.32 -21.49]\n",
      " Mean absolute error of cross-validation for all iterations: -21.602\n",
      "Calculating metrics for threshold 200 of filtering low-variance features...\n",
      "  Shape of input data: (3418, 201)\n",
      "  Shape of training data: (2734, 200)\n",
      " Iteration 1 has as mean absolute error = -21.913 All errors: [-21.77 -21.67 -21.59 -23.76 -20.77]\n",
      " Iteration 2 has as mean absolute error = -21.857 All errors: [-21.72 -21.55 -21.42 -23.68 -20.91]\n",
      " Iteration 3 has as mean absolute error = -21.911 All errors: [-21.85 -21.47 -21.49 -23.67 -21.08]\n",
      " Iteration 4 has as mean absolute error = -21.945 All errors: [-21.70 -21.59 -21.61 -23.62 -21.21]\n",
      " Iteration 5 has as mean absolute error = -21.909 All errors: [-21.78 -21.72 -21.50 -23.41 -21.14]\n",
      " Iteration 6 has as mean absolute error = -21.899 All errors: [-21.85 -21.66 -21.46 -23.58 -20.94]\n",
      " Iteration 7 has as mean absolute error = -21.957 All errors: [-21.77 -21.73 -21.57 -23.67 -21.04]\n",
      " Iteration 8 has as mean absolute error = -21.966 All errors: [-21.85 -21.72 -21.69 -23.67 -20.89]\n",
      " Iteration 9 has as mean absolute error = -21.955 All errors: [-21.83 -21.70 -21.55 -23.75 -20.95]\n",
      " Iteration 10 has as mean absolute error = -21.953 All errors: [-21.87 -21.70 -21.44 -23.76 -20.99]\n",
      " Mean absolute error of cross-validation for all iterations: -21.927\n",
      "Calculating metrics for threshold 250 of filtering low-variance features...\n",
      "  Shape of input data: (3418, 251)\n",
      "  Shape of training data: (2734, 250)\n",
      " Iteration 1 has as mean absolute error = -22.454 All errors: [-22.78 -21.71 -22.02 -23.11 -22.65]\n",
      " Iteration 2 has as mean absolute error = -22.463 All errors: [-22.54 -21.90 -22.18 -23.04 -22.65]\n",
      " Iteration 3 has as mean absolute error = -22.444 All errors: [-22.91 -21.56 -22.11 -23.03 -22.62]\n",
      " Iteration 4 has as mean absolute error = -22.468 All errors: [-22.85 -21.78 -21.95 -23.06 -22.70]\n",
      " Iteration 5 has as mean absolute error = -22.368 All errors: [-22.74 -21.55 -22.22 -22.92 -22.41]\n",
      " Iteration 6 has as mean absolute error = -22.429 All errors: [-22.81 -21.70 -22.08 -23.14 -22.40]\n",
      " Iteration 7 has as mean absolute error = -22.42 All errors: [-22.58 -21.78 -22.09 -23.02 -22.63]\n",
      " Iteration 8 has as mean absolute error = -22.454 All errors: [-22.89 -21.75 -21.90 -23.12 -22.62]\n",
      " Iteration 9 has as mean absolute error = -22.464 All errors: [-22.83 -21.82 -21.94 -23.18 -22.55]\n",
      " Iteration 10 has as mean absolute error = -22.446 All errors: [-22.83 -21.80 -22.00 -23.07 -22.53]\n",
      " Mean absolute error of cross-validation for all iterations: -22.441\n",
      "Calculating metrics for threshold 300 of filtering low-variance features...\n",
      "  Shape of input data: (3418, 301)\n",
      "  Shape of training data: (2734, 300)\n",
      " Iteration 1 has as mean absolute error = -20.309 All errors: [-19.84 -19.18 -20.61 -21.20 -20.71]\n",
      " Iteration 2 has as mean absolute error = -20.27 All errors: [-19.82 -19.14 -20.64 -21.31 -20.44]\n",
      " Iteration 3 has as mean absolute error = -20.203 All errors: [-19.77 -19.08 -20.47 -21.07 -20.63]\n",
      " Iteration 4 has as mean absolute error = -20.221 All errors: [-19.83 -19.12 -20.66 -20.94 -20.55]\n",
      " Iteration 5 has as mean absolute error = -20.208 All errors: [-19.73 -19.17 -20.45 -21.19 -20.50]\n",
      " Iteration 6 has as mean absolute error = -20.271 All errors: [-20.01 -19.05 -20.71 -21.20 -20.38]\n",
      " Iteration 7 has as mean absolute error = -20.237 All errors: [-20.06 -19.22 -20.42 -21.17 -20.32]\n",
      " Iteration 8 has as mean absolute error = -20.174 All errors: [-19.82 -19.08 -20.50 -21.08 -20.38]\n",
      " Iteration 9 has as mean absolute error = -20.135 All errors: [-19.79 -19.05 -20.39 -20.80 -20.65]\n",
      " Iteration 10 has as mean absolute error = -20.229 All errors: [-19.93 -19.10 -20.54 -21.13 -20.45]\n",
      " Mean absolute error of cross-validation for all iterations: -20.226\n"
     ]
    }
   ],
   "source": [
    "#REGRESSION #########################################\n",
    "\n",
    "#Based on: Benchmark of \"remove_zero-variance.ipynb/py\"\n",
    "\n",
    "#Importing packages\n",
    "import pickle\n",
    "import zstandard\n",
    "import pandas as pd\n",
    "import numpy as np\n",
    "from scipy import stats\n",
    "from sklearn.model_selection import train_test_split\n",
    "from sklearn import metrics\n",
    "import sys\n",
    "\n",
    "#Cross-validation packages\n",
    "from sklearn.model_selection import StratifiedKFold\n",
    "from sklearn.model_selection import cross_validate\n",
    "import statistics\n",
    "from sklearn.ensemble import RandomForestRegressor\n",
    "\n",
    "\n",
    "#REGRESSION #########################################\n",
    "\n",
    "#For different scoring of cross_validate, check: https://scikit-learn.org/stable/modules/model_evaluation.html#scoring-parameter \"Regression\"\n",
    "#For the output of cross_validate: https://scikit-learn.org/stable/modules/generated/sklearn.model_selection.cross_validate.html\n",
    "\n",
    "n_jobs = 5\n",
    "f1_df = pd.DataFrame()\n",
    "\n",
    "print(\"Started script on: \", datetime.datetime.now())\n",
    "print('Method: ', method)\n",
    "print('Opening files named:', folder2 + 'df_' + method + 'i' + '.csv')\n",
    "\n",
    "#Loop for different number of features\n",
    "#for i in range(0, 301, 50):  \n",
    "for i in range(50, 301, 50):      \n",
    "\n",
    "    if(i == 0):\n",
    "        i = 'no filter'\n",
    "        tmp = df\n",
    "    else:\n",
    "        tmp = pd.read_csv(folder2 + 'df_' + method + str(i) + '.csv', index_col = 0) \n",
    "    \n",
    "    print('Calculating metrics for threshold', i, 'of filtering low-variance features...')\n",
    "    print('  Shape of input data:', tmp.shape)\n",
    "    \n",
    "    list_means = []\n",
    "\n",
    "    #Separating features from group/target variable\n",
    "    X = tmp.drop(group, axis=1)\n",
    "    y = tmp[group]\n",
    "\n",
    "    #I included random_state to make this command reproducible for after feature selection\n",
    "    #Source: https://scikit-learn.org/stable/modules/generated/sklearn.model_selection.train_test_split.html\n",
    "    X_train, X_test, y_train, y_test = train_test_split(X, y, test_size = 0.2, random_state = 99)\n",
    "\n",
    "    print('  Shape of training data:', X_train.shape)\n",
    "    \n",
    "    #Do 10 iterations for every different threshold\n",
    "    for it in range(1, 11, 1):   \n",
    "\n",
    "        #Cross-validation\n",
    "        kfold = StratifiedKFold(n_splits=5, shuffle=True, random_state=it)\n",
    "        #Instantiate Random Forest model\n",
    "        clf = RandomForestRegressor()\n",
    "\n",
    "        scoring = 'neg_mean_absolute_error'\n",
    "        output = cross_validate(clf, X_train, y_train, cv=5, scoring=scoring, return_train_score=False, return_estimator=True, n_jobs=15)\n",
    "        #print(output)\n",
    "        #{'fit_time': array([57.96, 62.67, 56.21, 67.85, 60.65]), 'score_time': array([0.05, 0.05, 0.05, 0.05, 0.05]), \n",
    "        #'estimator': [RandomForestRegressor(), RandomForestRegressor(), RandomForestRegressor(), RandomForestRegressor(), RandomForestRegressor()], \n",
    "        #'test_score': array([-13.17, -12.15, -17.07, -19.26, -32.13])}\n",
    "\n",
    "        #Get mean MAE for this iteration\n",
    "        mean = statistics.mean(output['test_score'])\n",
    "        #Add mean MAE to vector containing results of all iterations\n",
    "        list_means.append(mean)\n",
    "\n",
    "        print(' Iteration', it, 'has as mean absolute error =', round(mean, 3), 'All errors:', output['test_score'])\n",
    "    \n",
    "    print(' Mean absolute error of cross-validation for all iterations:', round(statistics.mean(list_means), 3))\n",
    "\n",
    "    #Add new values\n",
    "    f1_df[i] = list_means\n",
    "    \n",
    "    #Save benchmark results to a CSV file\n",
    "#    f1_df.to_csv(path + 'mae_benchmark_' + abiotic_factor + '_' + feature + '.csv', index=True)\n",
    "\n",
    "#Save benchmark results to a CSV file\n",
    "#f1_df.to_csv(path + 'mae_benchmark_' + abiotic_factor + '_' + feature + '.csv', index=True)"
   ]
  },
  {
   "cell_type": "markdown",
   "id": "8ee49783-98e0-49f6-af62-7913b7b62362",
   "metadata": {
    "jp-MarkdownHeadingCollapsed": true
   },
   "source": [
    "## Save metrics"
   ]
  },
  {
   "cell_type": "code",
   "execution_count": 7,
   "id": "8ec5ceed-fd92-41c6-a051-f7138e016e89",
   "metadata": {},
   "outputs": [
    {
     "name": "stdout",
     "output_type": "stream",
     "text": [
      "Method:  random\n",
      "Saved file: ../feature_selection/df_salt_gene-familiesClassification/df_random_F1/MAE_benchmarking.csv\n",
      "The history saving thread hit an unexpected error (OperationalError('attempt to write a readonly database')).History will not be written to the database.\n"
     ]
    }
   ],
   "source": [
    "#file_out_filtered\n",
    "\n",
    "print('Method: ', method)\n",
    "print('Saved file:', folder2 + 'df_' + method + '_F1/MAE_benchmarking.csv')\n",
    "\n",
    "#Save benchmark results to a CSV file\n",
    "f1_df.to_csv(folder2 + 'df_' + method + '_F1_benchmarking.csv', index=True)\n",
    "#f1_df.to_csv(folder2 + 'df_' + method + '_MAE_benchmarking.csv', index=True)"
   ]
  },
  {
   "cell_type": "markdown",
   "id": "710edc6c-2080-4c80-bccf-a2f189f87c19",
   "metadata": {
    "jp-MarkdownHeadingCollapsed": true
   },
   "source": [
    "# Plot"
   ]
  },
  {
   "cell_type": "code",
   "execution_count": 8,
   "id": "17f8fac9-809d-4bee-bced-db2d01fb5f16",
   "metadata": {},
   "outputs": [],
   "source": [
    "#method = 'tree-based'\n",
    "#method = 'L2'"
   ]
  },
  {
   "cell_type": "code",
   "execution_count": 9,
   "id": "737ffd5d-0ffa-406b-b38b-a2fee367c84d",
   "metadata": {},
   "outputs": [
    {
     "name": "stdout",
     "output_type": "stream",
     "text": [
      "Method:  random\n",
      "Loaded file ../feature_selection/df_salt_gene-familiesClassification/df_random_F1_benchmarking.csv\n"
     ]
    },
    {
     "data": {
      "text/html": [
       "<div>\n",
       "<style scoped>\n",
       "    .dataframe tbody tr th:only-of-type {\n",
       "        vertical-align: middle;\n",
       "    }\n",
       "\n",
       "    .dataframe tbody tr th {\n",
       "        vertical-align: top;\n",
       "    }\n",
       "\n",
       "    .dataframe thead th {\n",
       "        text-align: right;\n",
       "    }\n",
       "</style>\n",
       "<table border=\"1\" class=\"dataframe\">\n",
       "  <thead>\n",
       "    <tr style=\"text-align: right;\">\n",
       "      <th></th>\n",
       "      <th>50</th>\n",
       "      <th>100</th>\n",
       "      <th>150</th>\n",
       "      <th>200</th>\n",
       "      <th>250</th>\n",
       "      <th>300</th>\n",
       "    </tr>\n",
       "  </thead>\n",
       "  <tbody>\n",
       "    <tr>\n",
       "      <th>0</th>\n",
       "      <td>0.66</td>\n",
       "      <td>0.76</td>\n",
       "      <td>0.75</td>\n",
       "      <td>0.79</td>\n",
       "      <td>0.83</td>\n",
       "      <td>0.81</td>\n",
       "    </tr>\n",
       "    <tr>\n",
       "      <th>1</th>\n",
       "      <td>0.67</td>\n",
       "      <td>0.76</td>\n",
       "      <td>0.74</td>\n",
       "      <td>0.77</td>\n",
       "      <td>0.82</td>\n",
       "      <td>0.80</td>\n",
       "    </tr>\n",
       "    <tr>\n",
       "      <th>2</th>\n",
       "      <td>0.67</td>\n",
       "      <td>0.76</td>\n",
       "      <td>0.74</td>\n",
       "      <td>0.78</td>\n",
       "      <td>0.82</td>\n",
       "      <td>0.81</td>\n",
       "    </tr>\n",
       "    <tr>\n",
       "      <th>3</th>\n",
       "      <td>0.67</td>\n",
       "      <td>0.76</td>\n",
       "      <td>0.74</td>\n",
       "      <td>0.78</td>\n",
       "      <td>0.83</td>\n",
       "      <td>0.80</td>\n",
       "    </tr>\n",
       "    <tr>\n",
       "      <th>4</th>\n",
       "      <td>0.66</td>\n",
       "      <td>0.75</td>\n",
       "      <td>0.74</td>\n",
       "      <td>0.78</td>\n",
       "      <td>0.83</td>\n",
       "      <td>0.80</td>\n",
       "    </tr>\n",
       "  </tbody>\n",
       "</table>\n",
       "</div>"
      ],
      "text/plain": [
       "    50  100  150  200  250  300\n",
       "0 0.66 0.76 0.75 0.79 0.83 0.81\n",
       "1 0.67 0.76 0.74 0.77 0.82 0.80\n",
       "2 0.67 0.76 0.74 0.78 0.82 0.81\n",
       "3 0.67 0.76 0.74 0.78 0.83 0.80\n",
       "4 0.66 0.75 0.74 0.78 0.83 0.80"
      ]
     },
     "execution_count": 9,
     "metadata": {},
     "output_type": "execute_result"
    }
   ],
   "source": [
    "import pandas as pd\n",
    "\n",
    "print('Method: ', method)\n",
    "\n",
    "file_plot = folder2 + 'df_' + method\n",
    "\n",
    "#Classification:\n",
    "file_metrics = file_plot + '_F1_benchmarking.csv'\n",
    "#Regression:\n",
    "#file_metrics = file_plot + '_MAE_benchmarking.csv'\n",
    "\n",
    "figure = folder2 + method + '.png'\n",
    "\n",
    "# Load CSV data into a DataFrame\n",
    "print('Loaded file', file_metrics)\n",
    "f1_df = pd.read_csv(file_metrics, index_col = 0)\n",
    "\n",
    "f1_df.head()"
   ]
  },
  {
   "cell_type": "code",
   "execution_count": 10,
   "id": "771d4f77-770c-4e45-87ea-fedab56bb3ef",
   "metadata": {},
   "outputs": [
    {
     "name": "stdout",
     "output_type": "stream",
     "text": [
      "../feature_selection/df_salt_gene-familiesClassification/random.png\n"
     ]
    },
    {
     "data": {
      "image/png": "[encoded data removed]",
      "text/plain": [
       "<Figure size 640x480 with 1 Axes>"
      ]
     },
     "metadata": {},
     "output_type": "display_data"
    }
   ],
   "source": [
    "import pandas as pd\n",
    "import matplotlib.pyplot as plt\n",
    "\n",
    "#Plot results \n",
    "\n",
    "#ADAPT THE LABELS FOR REGRESSION/CLASSIFICATION\n",
    "#Plot the metrics for the cross-validation\n",
    "\n",
    "boxplot = f1_df.boxplot();\n",
    "\n",
    "#Add axis labels and title\n",
    "plt.ylabel('F1 scores');\n",
    "#plt.ylabel('Mean Absolute Error (MAE)');\n",
    "plt.title('Impact of joining correlated features in F1 scores');\n",
    "#plt.title('Impact of joining correlated features in MAEs');\n",
    "\n",
    "# Rotate x-axis labels by 45 degrees\n",
    "plt.xticks(rotation=45)\n",
    "ticks = plt.xticks()[0]\n",
    "labels = [str(round(float(label), 1)) for label in ticks]  # Round each label to 3 decimal places\n",
    "\n",
    "plt.savefig(figure, dpi=300, bbox_inches='tight')\n",
    "print(figure)\n",
    "\n",
    "#Show plot\n",
    "plt.show();"
   ]
  },
  {
   "cell_type": "markdown",
   "id": "ee44ec56-0997-41af-930b-a9ea10a0a2e0",
   "metadata": {},
   "source": [
    "# Filter files\n",
    "\n",
    "See [wiki](https://git.bia-christian.de/bia/lab_book_VEO/wiki/feature-selection) for details. After analysing the plots produced by RFE, tree-based and L2, we saw that RFE shows clear elbow points for all datasets, making the decision clear on how many features we should choose for the next step of the project.   \n",
    "\n",
    "This block of code filters datasets based on results of the RFE feature selection calculation. All features with score = 1 are kept. This comprises most of the features."
   ]
  },
  {
   "cell_type": "code",
   "execution_count": 46,
   "id": "95fe1694-ef1d-4079-9c42-8e1aea17a2c3",
   "metadata": {},
   "outputs": [
    {
     "data": {
      "text/plain": [
       "'/home/bia/Documents/BacterialData/run_features/join_highly_correlated/chosen_files/df_temperature_gene-familiesRegression_0.9500000000000002.csv'"
      ]
     },
     "execution_count": 46,
     "metadata": {},
     "output_type": "execute_result"
    },
    {
     "name": "stderr",
     "output_type": "stream",
     "text": [
      "/tmp/ipykernel_22690/3064813423.py:49: DtypeWarning: Columns (0) have mixed types. Specify dtype option on import or set low_memory=False.\n",
      "  df = pd.read_csv(file)\n"
     ]
    },
    {
     "data": {
      "text/html": [
       "<div>\n",
       "<style scoped>\n",
       "    .dataframe tbody tr th:only-of-type {\n",
       "        vertical-align: middle;\n",
       "    }\n",
       "\n",
       "    .dataframe tbody tr th {\n",
       "        vertical-align: top;\n",
       "    }\n",
       "\n",
       "    .dataframe thead th {\n",
       "        text-align: right;\n",
       "    }\n",
       "</style>\n",
       "<table border=\"1\" class=\"dataframe\">\n",
       "  <thead>\n",
       "    <tr style=\"text-align: right;\">\n",
       "      <th></th>\n",
       "      <th>COG3696@2</th>\n",
       "      <th>COG0606@2</th>\n",
       "      <th>COG0774@1</th>\n",
       "      <th>COG5009@2</th>\n",
       "      <th>COG0188@2</th>\n",
       "      <th>COG0265@2</th>\n",
       "      <th>COG3270@1</th>\n",
       "      <th>2Z7XP@2</th>\n",
       "      <th>COG1086@2</th>\n",
       "      <th>COG2244@2</th>\n",
       "      <th>...</th>\n",
       "      <th>arCOG00643@2157</th>\n",
       "      <th>arCOG00282@2157</th>\n",
       "      <th>arCOG05967@2157</th>\n",
       "      <th>arCOG01496@2157</th>\n",
       "      <th>arCOG02623@2157</th>\n",
       "      <th>arCOG03384@2157</th>\n",
       "      <th>arCOG03665@2157</th>\n",
       "      <th>arCOG00257@2157</th>\n",
       "      <th>arCOG03696@2157</th>\n",
       "      <th>Temp all mean</th>\n",
       "    </tr>\n",
       "    <tr>\n",
       "      <th>Best assembly</th>\n",
       "      <th></th>\n",
       "      <th></th>\n",
       "      <th></th>\n",
       "      <th></th>\n",
       "      <th></th>\n",
       "      <th></th>\n",
       "      <th></th>\n",
       "      <th></th>\n",
       "      <th></th>\n",
       "      <th></th>\n",
       "      <th></th>\n",
       "      <th></th>\n",
       "      <th></th>\n",
       "      <th></th>\n",
       "      <th></th>\n",
       "      <th></th>\n",
       "      <th></th>\n",
       "      <th></th>\n",
       "      <th></th>\n",
       "      <th></th>\n",
       "      <th></th>\n",
       "    </tr>\n",
       "  </thead>\n",
       "  <tbody>\n",
       "    <tr>\n",
       "      <th>1002367.30</th>\n",
       "      <td>1</td>\n",
       "      <td>1</td>\n",
       "      <td>1</td>\n",
       "      <td>1</td>\n",
       "      <td>1</td>\n",
       "      <td>1</td>\n",
       "      <td>1</td>\n",
       "      <td>1</td>\n",
       "      <td>1</td>\n",
       "      <td>1</td>\n",
       "      <td>...</td>\n",
       "      <td>0</td>\n",
       "      <td>0</td>\n",
       "      <td>0</td>\n",
       "      <td>0</td>\n",
       "      <td>0</td>\n",
       "      <td>0</td>\n",
       "      <td>0</td>\n",
       "      <td>0</td>\n",
       "      <td>0</td>\n",
       "      <td>37.00</td>\n",
       "    </tr>\n",
       "    <tr>\n",
       "      <th>101383.40</th>\n",
       "      <td>1</td>\n",
       "      <td>0</td>\n",
       "      <td>0</td>\n",
       "      <td>0</td>\n",
       "      <td>1</td>\n",
       "      <td>0</td>\n",
       "      <td>0</td>\n",
       "      <td>0</td>\n",
       "      <td>0</td>\n",
       "      <td>0</td>\n",
       "      <td>...</td>\n",
       "      <td>0</td>\n",
       "      <td>0</td>\n",
       "      <td>0</td>\n",
       "      <td>0</td>\n",
       "      <td>0</td>\n",
       "      <td>0</td>\n",
       "      <td>0</td>\n",
       "      <td>0</td>\n",
       "      <td>0</td>\n",
       "      <td>10.00</td>\n",
       "    </tr>\n",
       "    <tr>\n",
       "      <th>1049789.40</th>\n",
       "      <td>1</td>\n",
       "      <td>0</td>\n",
       "      <td>0</td>\n",
       "      <td>0</td>\n",
       "      <td>0</td>\n",
       "      <td>0</td>\n",
       "      <td>0</td>\n",
       "      <td>0</td>\n",
       "      <td>0</td>\n",
       "      <td>0</td>\n",
       "      <td>...</td>\n",
       "      <td>0</td>\n",
       "      <td>0</td>\n",
       "      <td>0</td>\n",
       "      <td>0</td>\n",
       "      <td>0</td>\n",
       "      <td>0</td>\n",
       "      <td>0</td>\n",
       "      <td>0</td>\n",
       "      <td>0</td>\n",
       "      <td>30.00</td>\n",
       "    </tr>\n",
       "    <tr>\n",
       "      <th>1056810.30</th>\n",
       "      <td>1</td>\n",
       "      <td>1</td>\n",
       "      <td>0</td>\n",
       "      <td>1</td>\n",
       "      <td>1</td>\n",
       "      <td>0</td>\n",
       "      <td>0</td>\n",
       "      <td>0</td>\n",
       "      <td>1</td>\n",
       "      <td>0</td>\n",
       "      <td>...</td>\n",
       "      <td>0</td>\n",
       "      <td>0</td>\n",
       "      <td>0</td>\n",
       "      <td>0</td>\n",
       "      <td>0</td>\n",
       "      <td>0</td>\n",
       "      <td>0</td>\n",
       "      <td>0</td>\n",
       "      <td>0</td>\n",
       "      <td>30.00</td>\n",
       "    </tr>\n",
       "    <tr>\n",
       "      <th>108980.91</th>\n",
       "      <td>1</td>\n",
       "      <td>0</td>\n",
       "      <td>0</td>\n",
       "      <td>1</td>\n",
       "      <td>1</td>\n",
       "      <td>1</td>\n",
       "      <td>0</td>\n",
       "      <td>0</td>\n",
       "      <td>0</td>\n",
       "      <td>0</td>\n",
       "      <td>...</td>\n",
       "      <td>0</td>\n",
       "      <td>0</td>\n",
       "      <td>0</td>\n",
       "      <td>0</td>\n",
       "      <td>0</td>\n",
       "      <td>0</td>\n",
       "      <td>0</td>\n",
       "      <td>0</td>\n",
       "      <td>0</td>\n",
       "      <td>29.00</td>\n",
       "    </tr>\n",
       "  </tbody>\n",
       "</table>\n",
       "<p>5 rows × 5582 columns</p>\n",
       "</div>"
      ],
      "text/plain": [
       "               COG3696@2  COG0606@2  COG0774@1  COG5009@2  COG0188@2  \\\n",
       "Best assembly                                                          \n",
       "1002367.30             1          1          1          1          1   \n",
       "101383.40              1          0          0          0          1   \n",
       "1049789.40             1          0          0          0          0   \n",
       "1056810.30             1          1          0          1          1   \n",
       "108980.91              1          0          0          1          1   \n",
       "\n",
       "               COG0265@2  COG3270@1  2Z7XP@2  COG1086@2  COG2244@2  ...  \\\n",
       "Best assembly                                                       ...   \n",
       "1002367.30             1          1        1          1          1  ...   \n",
       "101383.40              0          0        0          0          0  ...   \n",
       "1049789.40             0          0        0          0          0  ...   \n",
       "1056810.30             0          0        0          1          0  ...   \n",
       "108980.91              1          0        0          0          0  ...   \n",
       "\n",
       "               arCOG00643@2157  arCOG00282@2157  arCOG05967@2157  \\\n",
       "Best assembly                                                      \n",
       "1002367.30                   0                0                0   \n",
       "101383.40                    0                0                0   \n",
       "1049789.40                   0                0                0   \n",
       "1056810.30                   0                0                0   \n",
       "108980.91                    0                0                0   \n",
       "\n",
       "               arCOG01496@2157  arCOG02623@2157  arCOG03384@2157  \\\n",
       "Best assembly                                                      \n",
       "1002367.30                   0                0                0   \n",
       "101383.40                    0                0                0   \n",
       "1049789.40                   0                0                0   \n",
       "1056810.30                   0                0                0   \n",
       "108980.91                    0                0                0   \n",
       "\n",
       "               arCOG03665@2157  arCOG00257@2157  arCOG03696@2157  \\\n",
       "Best assembly                                                      \n",
       "1002367.30                   0                0                0   \n",
       "101383.40                    0                0                0   \n",
       "1049789.40                   0                0                0   \n",
       "1056810.30                   0                0                0   \n",
       "108980.91                    0                0                0   \n",
       "\n",
       "               Temp all mean  \n",
       "Best assembly                 \n",
       "1002367.30             37.00  \n",
       "101383.40              10.00  \n",
       "1049789.40             30.00  \n",
       "1056810.30             30.00  \n",
       "108980.91              29.00  \n",
       "\n",
       "[5 rows x 5582 columns]"
      ]
     },
     "execution_count": 46,
     "metadata": {},
     "output_type": "execute_result"
    },
    {
     "data": {
      "text/plain": [
       "(13198, 5582)"
      ]
     },
     "execution_count": 46,
     "metadata": {},
     "output_type": "execute_result"
    }
   ],
   "source": [
    "import sys\n",
    "import pandas as pd\n",
    "import numpy as np\n",
    "\n",
    "#Load input dataframe from joining features by correlation\n",
    "\n",
    "#feature = 'gene-familiesClassification'\n",
    "feature = 'gene-familiesRegression'\n",
    "#feature = 'kmer9Classification'\n",
    "#feature = 'kmer9Regression'\n",
    "#feature = 'gene-families'\n",
    "#feature = 'kmer9'\n",
    "\n",
    "#abiotic_factor = 'salt'\n",
    "abiotic_factor = 'temperature'\n",
    "#abiotic_factor = 'pH'\n",
    "#abiotic_factor = 'oxygen'\n",
    "\n",
    "#var_filter = '0.7'                                 #salt Class GF\n",
    "#var_filter = '0.9000000000000001'                  #salt Reg GF\n",
    "#var_filter = '0.9000000000000001'                  #salt Class kmer9\n",
    "var_filter = '0.9500000000000002'                  #salt Reg kmer9\n",
    "#var_filter = ''                 #temp Class GF\n",
    "#var_filter = ''                                #temp Reg GF\n",
    "#var_filter = ''                               #temp Reg kmer9\n",
    "#var_filter = ''                   #temp Class kmer9\n",
    "#var_filter = ''                  #oxygen Class GF\n",
    "#var_filter = ''                 #oxygen Class kmer9\n",
    "#var_filter = ''                               #pH Reg kmer9  \n",
    "#var_filter = ''                                 #pH Reg GF  \n",
    "\n",
    "#Define target group:\n",
    "#group = 'Salinity group'\n",
    "#group = 'Salt all mean'\n",
    "#group = 'Temp group'\n",
    "#group = 'Temp all mean'\n",
    "#group = 'pH all mean'\n",
    "#group = 'Oxygen tolerance'\n",
    "\n",
    "#Input\n",
    "path = '/home/bia/Documents/BacterialData/run_features/join_highly_correlated/chosen_files/'\n",
    "\n",
    "file = path + 'df_' + abiotic_factor + '_' + feature + '_' + var_filter + '.csv'  \n",
    "file\n",
    "\n",
    "output_folder = '/home/bia/Documents/BacterialData/run_features/feature_selection/chosen_files/'\n",
    "output_file = output_folder + 'df_' +  abiotic_factor + '_' + feature + '_filtered.csv' \n",
    "\n",
    "df = pd.read_csv(file)\n",
    "# Set the 'Feature' column as the index\n",
    "df.set_index('Best assembly', inplace=True)\n",
    "    \n",
    "df.head()\n",
    "df.shape"
   ]
  },
  {
   "cell_type": "code",
   "execution_count": 47,
   "id": "c1bc1922-b8d2-4173-bd0c-80a868127ebd",
   "metadata": {},
   "outputs": [
    {
     "data": {
      "text/plain": [
       "'/home/bia/Documents/BacterialData/run_features/feature_selection/df_temperature_gene-familiesRegression/Importance_scores_RFE_Salt_Bia.tsv'"
      ]
     },
     "execution_count": 47,
     "metadata": {},
     "output_type": "execute_result"
    },
    {
     "data": {
      "text/html": [
       "<div>\n",
       "<style scoped>\n",
       "    .dataframe tbody tr th:only-of-type {\n",
       "        vertical-align: middle;\n",
       "    }\n",
       "\n",
       "    .dataframe tbody tr th {\n",
       "        vertical-align: top;\n",
       "    }\n",
       "\n",
       "    .dataframe thead th {\n",
       "        text-align: right;\n",
       "    }\n",
       "</style>\n",
       "<table border=\"1\" class=\"dataframe\">\n",
       "  <thead>\n",
       "    <tr style=\"text-align: right;\">\n",
       "      <th></th>\n",
       "      <th>Importance_score</th>\n",
       "    </tr>\n",
       "    <tr>\n",
       "      <th>Feature</th>\n",
       "      <th></th>\n",
       "    </tr>\n",
       "  </thead>\n",
       "  <tbody>\n",
       "    <tr>\n",
       "      <th>CorGroup_arCOG04754@2157</th>\n",
       "      <td>0.00</td>\n",
       "    </tr>\n",
       "    <tr>\n",
       "      <th>2ZAVI@2</th>\n",
       "      <td>0.00</td>\n",
       "    </tr>\n",
       "    <tr>\n",
       "      <th>COG0587@2</th>\n",
       "      <td>0.00</td>\n",
       "    </tr>\n",
       "    <tr>\n",
       "      <th>COG1993@1</th>\n",
       "      <td>0.00</td>\n",
       "    </tr>\n",
       "    <tr>\n",
       "      <th>COG1236@2</th>\n",
       "      <td>0.00</td>\n",
       "    </tr>\n",
       "  </tbody>\n",
       "</table>\n",
       "</div>"
      ],
      "text/plain": [
       "                          Importance_score\n",
       "Feature                                   \n",
       "CorGroup_arCOG04754@2157              0.00\n",
       "2ZAVI@2                               0.00\n",
       "COG0587@2                             0.00\n",
       "COG1993@1                             0.00\n",
       "COG1236@2                             0.00"
      ]
     },
     "execution_count": 47,
     "metadata": {},
     "output_type": "execute_result"
    },
    {
     "data": {
      "text/plain": [
       "(5581, 1)"
      ]
     },
     "execution_count": 47,
     "metadata": {},
     "output_type": "execute_result"
    }
   ],
   "source": [
    "#Load input file with RFE's list of importance scores\n",
    "\n",
    "#Input2\n",
    "path2 = '/home/bia/Documents/BacterialData/run_features/feature_selection/'\n",
    "file2 = path2 + 'df_' + abiotic_factor + '_' + feature + '/Importance_scores_RFE_Salt_Bia.tsv'\n",
    "\n",
    "file2\n",
    "\n",
    "df_scores = pd.read_csv(file2, sep = '\\t')\n",
    "# Set the 'Feature' column as the index\n",
    "df_scores.set_index('Feature', inplace=True)\n",
    "\n",
    "df_scores.head()\n",
    "df_scores.shape"
   ]
  },
  {
   "cell_type": "code",
   "execution_count": 48,
   "id": "f2a630bb-4fc2-4295-aaf1-fe6cba298b2f",
   "metadata": {},
   "outputs": [
    {
     "data": {
      "text/html": [
       "<div>\n",
       "<style scoped>\n",
       "    .dataframe tbody tr th:only-of-type {\n",
       "        vertical-align: middle;\n",
       "    }\n",
       "\n",
       "    .dataframe tbody tr th {\n",
       "        vertical-align: top;\n",
       "    }\n",
       "\n",
       "    .dataframe thead th {\n",
       "        text-align: right;\n",
       "    }\n",
       "</style>\n",
       "<table border=\"1\" class=\"dataframe\">\n",
       "  <thead>\n",
       "    <tr style=\"text-align: right;\">\n",
       "      <th></th>\n",
       "      <th>COG0593@2</th>\n",
       "      <th>COG0402@2</th>\n",
       "      <th>Temp all mean</th>\n",
       "    </tr>\n",
       "    <tr>\n",
       "      <th>Best assembly</th>\n",
       "      <th></th>\n",
       "      <th></th>\n",
       "      <th></th>\n",
       "    </tr>\n",
       "  </thead>\n",
       "  <tbody>\n",
       "    <tr>\n",
       "      <th>1002367.30</th>\n",
       "      <td>1</td>\n",
       "      <td>0</td>\n",
       "      <td>37.00</td>\n",
       "    </tr>\n",
       "    <tr>\n",
       "      <th>101383.40</th>\n",
       "      <td>0</td>\n",
       "      <td>0</td>\n",
       "      <td>10.00</td>\n",
       "    </tr>\n",
       "    <tr>\n",
       "      <th>1049789.40</th>\n",
       "      <td>0</td>\n",
       "      <td>0</td>\n",
       "      <td>30.00</td>\n",
       "    </tr>\n",
       "    <tr>\n",
       "      <th>1056810.30</th>\n",
       "      <td>0</td>\n",
       "      <td>1</td>\n",
       "      <td>30.00</td>\n",
       "    </tr>\n",
       "    <tr>\n",
       "      <th>108980.91</th>\n",
       "      <td>1</td>\n",
       "      <td>1</td>\n",
       "      <td>29.00</td>\n",
       "    </tr>\n",
       "  </tbody>\n",
       "</table>\n",
       "</div>"
      ],
      "text/plain": [
       "               COG0593@2  COG0402@2  Temp all mean\n",
       "Best assembly                                     \n",
       "1002367.30             1          0          37.00\n",
       "101383.40              0          0          10.00\n",
       "1049789.40             0          0          30.00\n",
       "1056810.30             0          1          30.00\n",
       "108980.91              1          1          29.00"
      ]
     },
     "execution_count": 48,
     "metadata": {},
     "output_type": "execute_result"
    },
    {
     "data": {
      "text/plain": [
       "(13198, 3)"
      ]
     },
     "execution_count": 48,
     "metadata": {},
     "output_type": "execute_result"
    }
   ],
   "source": [
    "# Filter df2 for features with Importance_score == 1\n",
    "important_features = df_scores[df_scores['Importance_score'] == 1].index\n",
    "\n",
    "# Select the corresponding columns in df1 based on these features\n",
    "df_filtered = df[important_features]\n",
    "\n",
    "# Get the last column of df1\n",
    "last_col = df.iloc[:, -1]\n",
    "\n",
    "# Add the last column to df_filtered (use concat to combine along columns)\n",
    "df_filtered = pd.concat([df_filtered, last_col], axis=1)\n",
    "\n",
    "df_filtered.head()\n",
    "df_filtered.shape"
   ]
  },
  {
   "cell_type": "code",
   "execution_count": 39,
   "id": "61696976-e474-4d5b-a17a-3562b2e73b82",
   "metadata": {},
   "outputs": [
    {
     "data": {
      "text/plain": [
       "'/home/bia/Documents/BacterialData/run_features/feature_selection/chosen_files/df_salt_kmer9Classification_filtered.csv'"
      ]
     },
     "execution_count": 39,
     "metadata": {},
     "output_type": "execute_result"
    }
   ],
   "source": [
    "output_file\n",
    "\n",
    "# Save the DataFrame to a CSV file, keeping the index\n",
    "df_filtered.to_csv(output_file, index=True)"
   ]
  },
  {
   "cell_type": "code",
   "execution_count": null,
   "id": "769bf67a-e9a5-4955-a48f-4a0c871fe4b9",
   "metadata": {},
   "outputs": [],
   "source": []
  }
 ],
 "metadata": {
  "kernelspec": {
   "display_name": "Python 3 (ipykernel)",
   "language": "python",
   "name": "python3"
  },
  "language_info": {
   "codemirror_mode": {
    "name": "ipython",
    "version": 3
   },
   "file_extension": ".py",
   "mimetype": "text/x-python",
   "name": "python",
   "nbconvert_exporter": "python",
   "pygments_lexer": "ipython3",
   "version": "3.12.7"
  }
 },
 "nbformat": 4,
 "nbformat_minor": 5
}
