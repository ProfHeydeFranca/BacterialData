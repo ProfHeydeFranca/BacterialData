{
 "cells": [
  {
   "cell_type": "markdown",
   "id": "be55c11a-d0b6-4c08-95fa-6c07b88fc0e8",
   "metadata": {},
   "source": [
    "# Feature selection\n",
    "\n",
    "See https://git.bia-christian.de/bia/lab_book_VEO/wiki/oxygen"
   ]
  },
  {
   "cell_type": "markdown",
   "id": "7045f1f4-a34c-4daa-8b93-b0f64de4d750",
   "metadata": {},
   "source": [
    "# Correlations between features\n",
    "\n",
    "See https://git.bia-christian.de/bia/lab_book_VEO/wiki/oxygen#correlation-and-join-features"
   ]
  },
  {
   "cell_type": "code",
   "execution_count": 108,
   "id": "c1c6e7ab-56df-4095-84c7-bfae8ee44c51",
   "metadata": {},
   "outputs": [],
   "source": [
    "#Turn off scientific notation\n",
    "import pandas as pd\n",
    "pd.set_option('display.float_format', lambda x: '%.2f' % x)\n",
    "\n",
    "import numpy as np\n",
    "np.set_printoptions(suppress=True,\n",
    "   formatter={'float_kind':'{:0.2f}'.format})\n",
    "\n",
    "#Activate print all activities\n",
    "from IPython.core.interactiveshell import InteractiveShell\n",
    "InteractiveShell.ast_node_interactivity = \"all\""
   ]
  },
  {
   "cell_type": "code",
   "execution_count": 109,
   "id": "046f6238-32b5-4949-9490-2699f6f38f26",
   "metadata": {},
   "outputs": [
    {
     "name": "stderr",
     "output_type": "stream",
     "text": [
      "/tmp/ipykernel_4055/3906458195.py:7: DeprecationWarning: datetime.datetime.utcfromtimestamp() is deprecated and scheduled for removal in a future version. Use timezone-aware objects to represent datetimes in UTC: datetime.datetime.fromtimestamp(timestamp, datetime.UTC).\n",
      "  print(\"Started script! Loading input file...\", datetime.utcfromtimestamp(ts).strftime('%Y-%m-%d %H:%M:%S'))\n"
     ]
    },
    {
     "name": "stdout",
     "output_type": "stream",
     "text": [
      "Started script! Loading input file... 2024-06-21 08:24:06\n",
      "Loaded input pickle zst file... 2024-06-21 08:24:06\n"
     ]
    },
    {
     "name": "stderr",
     "output_type": "stream",
     "text": [
      "/tmp/ipykernel_4055/3906458195.py:15: DeprecationWarning: datetime.datetime.utcfromtimestamp() is deprecated and scheduled for removal in a future version. Use timezone-aware objects to represent datetimes in UTC: datetime.datetime.fromtimestamp(timestamp, datetime.UTC).\n",
      "  print(\"Loaded input pickle zst file...\", datetime.utcfromtimestamp(ts).strftime('%Y-%m-%d %H:%M:%S'))\n"
     ]
    }
   ],
   "source": [
    "import pickle\n",
    "import zstandard\n",
    "import time\n",
    "from datetime import datetime\n",
    "\n",
    "ts = time.time() \n",
    "print(\"Started script! Loading input file...\", datetime.utcfromtimestamp(ts).strftime('%Y-%m-%d %H:%M:%S'))\n",
    "\n",
    "#with zstandard.open('/home/bia/Documents/bacterial_phenotypes/connecting_features_abFactors/df_oxygen_kmer9_selected-filterNA.pickle.zst', \n",
    "with zstandard.open('/home/bia/Documents/bacterial_phenotypes/connecting_features_abFactors/df_oxygen_gene-families_selected-filterNA.pickle.zst', \n",
    "                    'rb') as f:\n",
    "\tdf = pickle.load(f)\n",
    "\n",
    "ts = time.time() \n",
    "print(\"Loaded input pickle zst file...\", datetime.utcfromtimestamp(ts).strftime('%Y-%m-%d %H:%M:%S'))"
   ]
  },
  {
   "cell_type": "code",
   "execution_count": 110,
   "id": "62f84f74-35d5-458e-b1f2-e7641ec923bd",
   "metadata": {},
   "outputs": [
    {
     "data": {
      "text/plain": [
       "(7255, 20142)"
      ]
     },
     "execution_count": 110,
     "metadata": {},
     "output_type": "execute_result"
    },
    {
     "data": {
      "text/html": [
       "<div>\n",
       "<style scoped>\n",
       "    .dataframe tbody tr th:only-of-type {\n",
       "        vertical-align: middle;\n",
       "    }\n",
       "\n",
       "    .dataframe tbody tr th {\n",
       "        vertical-align: top;\n",
       "    }\n",
       "\n",
       "    .dataframe thead th {\n",
       "        text-align: right;\n",
       "    }\n",
       "</style>\n",
       "<table border=\"1\" class=\"dataframe\">\n",
       "  <thead>\n",
       "    <tr style=\"text-align: right;\">\n",
       "      <th></th>\n",
       "      <th>COG3696@2</th>\n",
       "      <th>COG0606@2</th>\n",
       "      <th>33SZW@2</th>\n",
       "      <th>COG0774@1</th>\n",
       "      <th>COG5009@2</th>\n",
       "      <th>COG0188@2</th>\n",
       "      <th>COG0265@2</th>\n",
       "      <th>COG3270@1</th>\n",
       "      <th>2Z7XP@2</th>\n",
       "      <th>COG1086@2</th>\n",
       "      <th>...</th>\n",
       "      <th>arCOG06650@2157</th>\n",
       "      <th>Viruses,4R0IQ@35237</th>\n",
       "      <th>arCOG09713@2157</th>\n",
       "      <th>arCOG07735@2157</th>\n",
       "      <th>arCOG07334@2157</th>\n",
       "      <th>arCOG04203@2157</th>\n",
       "      <th>arCOG01811@2157</th>\n",
       "      <th>arCOG00087@2157</th>\n",
       "      <th>arCOG07496@2157</th>\n",
       "      <th>Oxygen tolerance</th>\n",
       "    </tr>\n",
       "    <tr>\n",
       "      <th>Best assembly</th>\n",
       "      <th></th>\n",
       "      <th></th>\n",
       "      <th></th>\n",
       "      <th></th>\n",
       "      <th></th>\n",
       "      <th></th>\n",
       "      <th></th>\n",
       "      <th></th>\n",
       "      <th></th>\n",
       "      <th></th>\n",
       "      <th></th>\n",
       "      <th></th>\n",
       "      <th></th>\n",
       "      <th></th>\n",
       "      <th></th>\n",
       "      <th></th>\n",
       "      <th></th>\n",
       "      <th></th>\n",
       "      <th></th>\n",
       "      <th></th>\n",
       "      <th></th>\n",
       "    </tr>\n",
       "  </thead>\n",
       "  <tbody>\n",
       "    <tr>\n",
       "      <th>1002367.3</th>\n",
       "      <td>1</td>\n",
       "      <td>1</td>\n",
       "      <td>1</td>\n",
       "      <td>1</td>\n",
       "      <td>1</td>\n",
       "      <td>1</td>\n",
       "      <td>1</td>\n",
       "      <td>1</td>\n",
       "      <td>1</td>\n",
       "      <td>1</td>\n",
       "      <td>...</td>\n",
       "      <td>0</td>\n",
       "      <td>0</td>\n",
       "      <td>0</td>\n",
       "      <td>0</td>\n",
       "      <td>0</td>\n",
       "      <td>0</td>\n",
       "      <td>0</td>\n",
       "      <td>0</td>\n",
       "      <td>0</td>\n",
       "      <td>anaerobe</td>\n",
       "    </tr>\n",
       "    <tr>\n",
       "      <th>108980.91</th>\n",
       "      <td>1</td>\n",
       "      <td>0</td>\n",
       "      <td>0</td>\n",
       "      <td>0</td>\n",
       "      <td>1</td>\n",
       "      <td>1</td>\n",
       "      <td>1</td>\n",
       "      <td>0</td>\n",
       "      <td>0</td>\n",
       "      <td>0</td>\n",
       "      <td>...</td>\n",
       "      <td>0</td>\n",
       "      <td>0</td>\n",
       "      <td>0</td>\n",
       "      <td>0</td>\n",
       "      <td>0</td>\n",
       "      <td>0</td>\n",
       "      <td>0</td>\n",
       "      <td>0</td>\n",
       "      <td>0</td>\n",
       "      <td>aerobe</td>\n",
       "    </tr>\n",
       "    <tr>\n",
       "      <th>1111140.3</th>\n",
       "      <td>1</td>\n",
       "      <td>0</td>\n",
       "      <td>0</td>\n",
       "      <td>0</td>\n",
       "      <td>1</td>\n",
       "      <td>1</td>\n",
       "      <td>1</td>\n",
       "      <td>0</td>\n",
       "      <td>0</td>\n",
       "      <td>1</td>\n",
       "      <td>...</td>\n",
       "      <td>0</td>\n",
       "      <td>0</td>\n",
       "      <td>0</td>\n",
       "      <td>0</td>\n",
       "      <td>0</td>\n",
       "      <td>0</td>\n",
       "      <td>0</td>\n",
       "      <td>0</td>\n",
       "      <td>0</td>\n",
       "      <td>aerobe</td>\n",
       "    </tr>\n",
       "    <tr>\n",
       "      <th>1112212.3</th>\n",
       "      <td>1</td>\n",
       "      <td>1</td>\n",
       "      <td>0</td>\n",
       "      <td>0</td>\n",
       "      <td>1</td>\n",
       "      <td>1</td>\n",
       "      <td>1</td>\n",
       "      <td>0</td>\n",
       "      <td>0</td>\n",
       "      <td>0</td>\n",
       "      <td>...</td>\n",
       "      <td>0</td>\n",
       "      <td>0</td>\n",
       "      <td>0</td>\n",
       "      <td>0</td>\n",
       "      <td>0</td>\n",
       "      <td>0</td>\n",
       "      <td>0</td>\n",
       "      <td>0</td>\n",
       "      <td>0</td>\n",
       "      <td>aerobe</td>\n",
       "    </tr>\n",
       "    <tr>\n",
       "      <th>1120962.3</th>\n",
       "      <td>1</td>\n",
       "      <td>1</td>\n",
       "      <td>0</td>\n",
       "      <td>0</td>\n",
       "      <td>1</td>\n",
       "      <td>1</td>\n",
       "      <td>1</td>\n",
       "      <td>0</td>\n",
       "      <td>0</td>\n",
       "      <td>0</td>\n",
       "      <td>...</td>\n",
       "      <td>0</td>\n",
       "      <td>0</td>\n",
       "      <td>0</td>\n",
       "      <td>0</td>\n",
       "      <td>0</td>\n",
       "      <td>0</td>\n",
       "      <td>0</td>\n",
       "      <td>0</td>\n",
       "      <td>0</td>\n",
       "      <td>aerobe</td>\n",
       "    </tr>\n",
       "  </tbody>\n",
       "</table>\n",
       "<p>5 rows × 20142 columns</p>\n",
       "</div>"
      ],
      "text/plain": [
       "               COG3696@2  COG0606@2  33SZW@2  COG0774@1  COG5009@2  COG0188@2  \\\n",
       "Best assembly                                                                   \n",
       "1002367.3              1          1        1          1          1          1   \n",
       "108980.91              1          0        0          0          1          1   \n",
       "1111140.3              1          0        0          0          1          1   \n",
       "1112212.3              1          1        0          0          1          1   \n",
       "1120962.3              1          1        0          0          1          1   \n",
       "\n",
       "               COG0265@2  COG3270@1  2Z7XP@2  COG1086@2  ...  arCOG06650@2157  \\\n",
       "Best assembly                                            ...                    \n",
       "1002367.3              1          1        1          1  ...                0   \n",
       "108980.91              1          0        0          0  ...                0   \n",
       "1111140.3              1          0        0          1  ...                0   \n",
       "1112212.3              1          0        0          0  ...                0   \n",
       "1120962.3              1          0        0          0  ...                0   \n",
       "\n",
       "               Viruses,4R0IQ@35237  arCOG09713@2157  arCOG07735@2157  \\\n",
       "Best assembly                                                          \n",
       "1002367.3                        0                0                0   \n",
       "108980.91                        0                0                0   \n",
       "1111140.3                        0                0                0   \n",
       "1112212.3                        0                0                0   \n",
       "1120962.3                        0                0                0   \n",
       "\n",
       "               arCOG07334@2157  arCOG04203@2157  arCOG01811@2157  \\\n",
       "Best assembly                                                      \n",
       "1002367.3                    0                0                0   \n",
       "108980.91                    0                0                0   \n",
       "1111140.3                    0                0                0   \n",
       "1112212.3                    0                0                0   \n",
       "1120962.3                    0                0                0   \n",
       "\n",
       "               arCOG00087@2157  arCOG07496@2157  Oxygen tolerance  \n",
       "Best assembly                                                      \n",
       "1002367.3                    0                0          anaerobe  \n",
       "108980.91                    0                0            aerobe  \n",
       "1111140.3                    0                0            aerobe  \n",
       "1112212.3                    0                0            aerobe  \n",
       "1120962.3                    0                0            aerobe  \n",
       "\n",
       "[5 rows x 20142 columns]"
      ]
     },
     "execution_count": 110,
     "metadata": {},
     "output_type": "execute_result"
    }
   ],
   "source": [
    "df.shape\n",
    "df.head()"
   ]
  },
  {
   "cell_type": "code",
   "execution_count": 113,
   "id": "e4e6d243-229e-4b1f-a436-5ee3a43a083f",
   "metadata": {},
   "outputs": [],
   "source": [
    "# Separar as features (X) e o grupos (y)\n",
    "#Full dataset:\n",
    "X = df.iloc[:, :-1]  \n",
    "y = df.iloc[:, -1] \n",
    "\n",
    "#Subset for developing:\n",
    "#X = df.iloc[0:100, 0:100]\n",
    "#y = df.iloc[0:100, -1] "
   ]
  },
  {
   "cell_type": "code",
   "execution_count": 114,
   "id": "1c964ba5-1852-47a2-8390-98d139e4712c",
   "metadata": {},
   "outputs": [],
   "source": [
    "# Calcular a correlação de Spearman\n",
    "correlation_matrix = X.corr(method='spearman')\n",
    "\n",
    "#Calculating p-values for the correlations\n",
    "#From ChatGPT - I SHOULD VERIFY THE CODE\n",
    "#from scipy.stats import spearmanr\n",
    "\n",
    "# Initialize a DataFrame to store p-values\n",
    "#p_values = pd.DataFrame(columns=X.columns, index=X.columns)\n",
    "\n",
    "# Calculate p-values for each pair of columns using Spearman correlation\n",
    "#for col1 in X.columns:\n",
    "#    for col2 in X.columns:\n",
    "#        spearman_corr, p_value = spearmanr(X[col1], X[col2])\n",
    "#        p_values.loc[col1, col2] = p_value"
   ]
  },
  {
   "cell_type": "code",
   "execution_count": 115,
   "id": "3dacea11-da92-407a-81bc-68e733c8ea96",
   "metadata": {},
   "outputs": [
    {
     "data": {
      "text/html": [
       "<div>\n",
       "<style scoped>\n",
       "    .dataframe tbody tr th:only-of-type {\n",
       "        vertical-align: middle;\n",
       "    }\n",
       "\n",
       "    .dataframe tbody tr th {\n",
       "        vertical-align: top;\n",
       "    }\n",
       "\n",
       "    .dataframe thead th {\n",
       "        text-align: right;\n",
       "    }\n",
       "</style>\n",
       "<table border=\"1\" class=\"dataframe\">\n",
       "  <thead>\n",
       "    <tr style=\"text-align: right;\">\n",
       "      <th></th>\n",
       "      <th>COG3696@2</th>\n",
       "      <th>COG0606@2</th>\n",
       "      <th>33SZW@2</th>\n",
       "      <th>COG0774@1</th>\n",
       "      <th>COG5009@2</th>\n",
       "      <th>COG0188@2</th>\n",
       "      <th>COG0265@2</th>\n",
       "      <th>COG3270@1</th>\n",
       "      <th>2Z7XP@2</th>\n",
       "      <th>COG1086@2</th>\n",
       "      <th>...</th>\n",
       "      <th>arCOG09517@2157</th>\n",
       "      <th>arCOG06650@2157</th>\n",
       "      <th>Viruses,4R0IQ@35237</th>\n",
       "      <th>arCOG09713@2157</th>\n",
       "      <th>arCOG07735@2157</th>\n",
       "      <th>arCOG07334@2157</th>\n",
       "      <th>arCOG04203@2157</th>\n",
       "      <th>arCOG01811@2157</th>\n",
       "      <th>arCOG00087@2157</th>\n",
       "      <th>arCOG07496@2157</th>\n",
       "    </tr>\n",
       "  </thead>\n",
       "  <tbody>\n",
       "    <tr>\n",
       "      <th>COG3696@2</th>\n",
       "      <td>1.00</td>\n",
       "      <td>0.15</td>\n",
       "      <td>-0.01</td>\n",
       "      <td>0.29</td>\n",
       "      <td>0.59</td>\n",
       "      <td>0.12</td>\n",
       "      <td>0.18</td>\n",
       "      <td>0.02</td>\n",
       "      <td>0.04</td>\n",
       "      <td>0.22</td>\n",
       "      <td>...</td>\n",
       "      <td>-0.01</td>\n",
       "      <td>-0.01</td>\n",
       "      <td>NaN</td>\n",
       "      <td>NaN</td>\n",
       "      <td>NaN</td>\n",
       "      <td>NaN</td>\n",
       "      <td>-0.01</td>\n",
       "      <td>-0.01</td>\n",
       "      <td>-0.01</td>\n",
       "      <td>NaN</td>\n",
       "    </tr>\n",
       "    <tr>\n",
       "      <th>COG0606@2</th>\n",
       "      <td>0.15</td>\n",
       "      <td>1.00</td>\n",
       "      <td>0.02</td>\n",
       "      <td>0.28</td>\n",
       "      <td>0.22</td>\n",
       "      <td>0.16</td>\n",
       "      <td>0.51</td>\n",
       "      <td>0.17</td>\n",
       "      <td>0.10</td>\n",
       "      <td>0.30</td>\n",
       "      <td>...</td>\n",
       "      <td>-0.01</td>\n",
       "      <td>-0.01</td>\n",
       "      <td>NaN</td>\n",
       "      <td>NaN</td>\n",
       "      <td>NaN</td>\n",
       "      <td>NaN</td>\n",
       "      <td>-0.01</td>\n",
       "      <td>-0.01</td>\n",
       "      <td>-0.01</td>\n",
       "      <td>NaN</td>\n",
       "    </tr>\n",
       "    <tr>\n",
       "      <th>33SZW@2</th>\n",
       "      <td>-0.01</td>\n",
       "      <td>0.02</td>\n",
       "      <td>1.00</td>\n",
       "      <td>0.08</td>\n",
       "      <td>0.03</td>\n",
       "      <td>-0.02</td>\n",
       "      <td>0.03</td>\n",
       "      <td>0.06</td>\n",
       "      <td>0.18</td>\n",
       "      <td>0.00</td>\n",
       "      <td>...</td>\n",
       "      <td>-0.00</td>\n",
       "      <td>-0.00</td>\n",
       "      <td>NaN</td>\n",
       "      <td>NaN</td>\n",
       "      <td>NaN</td>\n",
       "      <td>NaN</td>\n",
       "      <td>-0.00</td>\n",
       "      <td>-0.00</td>\n",
       "      <td>-0.00</td>\n",
       "      <td>NaN</td>\n",
       "    </tr>\n",
       "    <tr>\n",
       "      <th>COG0774@1</th>\n",
       "      <td>0.29</td>\n",
       "      <td>0.28</td>\n",
       "      <td>0.08</td>\n",
       "      <td>1.00</td>\n",
       "      <td>0.27</td>\n",
       "      <td>0.05</td>\n",
       "      <td>0.29</td>\n",
       "      <td>0.15</td>\n",
       "      <td>0.31</td>\n",
       "      <td>0.24</td>\n",
       "      <td>...</td>\n",
       "      <td>-0.00</td>\n",
       "      <td>-0.00</td>\n",
       "      <td>NaN</td>\n",
       "      <td>NaN</td>\n",
       "      <td>NaN</td>\n",
       "      <td>NaN</td>\n",
       "      <td>-0.00</td>\n",
       "      <td>-0.00</td>\n",
       "      <td>-0.00</td>\n",
       "      <td>NaN</td>\n",
       "    </tr>\n",
       "    <tr>\n",
       "      <th>COG5009@2</th>\n",
       "      <td>0.59</td>\n",
       "      <td>0.22</td>\n",
       "      <td>0.03</td>\n",
       "      <td>0.27</td>\n",
       "      <td>1.00</td>\n",
       "      <td>0.19</td>\n",
       "      <td>0.25</td>\n",
       "      <td>0.02</td>\n",
       "      <td>0.09</td>\n",
       "      <td>0.26</td>\n",
       "      <td>...</td>\n",
       "      <td>-0.01</td>\n",
       "      <td>-0.01</td>\n",
       "      <td>NaN</td>\n",
       "      <td>NaN</td>\n",
       "      <td>NaN</td>\n",
       "      <td>NaN</td>\n",
       "      <td>-0.01</td>\n",
       "      <td>-0.01</td>\n",
       "      <td>-0.01</td>\n",
       "      <td>NaN</td>\n",
       "    </tr>\n",
       "  </tbody>\n",
       "</table>\n",
       "<p>5 rows × 20141 columns</p>\n",
       "</div>"
      ],
      "text/plain": [
       "           COG3696@2  COG0606@2  33SZW@2  COG0774@1  COG5009@2  COG0188@2  \\\n",
       "COG3696@2       1.00       0.15    -0.01       0.29       0.59       0.12   \n",
       "COG0606@2       0.15       1.00     0.02       0.28       0.22       0.16   \n",
       "33SZW@2        -0.01       0.02     1.00       0.08       0.03      -0.02   \n",
       "COG0774@1       0.29       0.28     0.08       1.00       0.27       0.05   \n",
       "COG5009@2       0.59       0.22     0.03       0.27       1.00       0.19   \n",
       "\n",
       "           COG0265@2  COG3270@1  2Z7XP@2  COG1086@2  ...  arCOG09517@2157  \\\n",
       "COG3696@2       0.18       0.02     0.04       0.22  ...            -0.01   \n",
       "COG0606@2       0.51       0.17     0.10       0.30  ...            -0.01   \n",
       "33SZW@2         0.03       0.06     0.18       0.00  ...            -0.00   \n",
       "COG0774@1       0.29       0.15     0.31       0.24  ...            -0.00   \n",
       "COG5009@2       0.25       0.02     0.09       0.26  ...            -0.01   \n",
       "\n",
       "           arCOG06650@2157  Viruses,4R0IQ@35237  arCOG09713@2157  \\\n",
       "COG3696@2            -0.01                  NaN              NaN   \n",
       "COG0606@2            -0.01                  NaN              NaN   \n",
       "33SZW@2              -0.00                  NaN              NaN   \n",
       "COG0774@1            -0.00                  NaN              NaN   \n",
       "COG5009@2            -0.01                  NaN              NaN   \n",
       "\n",
       "           arCOG07735@2157  arCOG07334@2157  arCOG04203@2157  arCOG01811@2157  \\\n",
       "COG3696@2              NaN              NaN            -0.01            -0.01   \n",
       "COG0606@2              NaN              NaN            -0.01            -0.01   \n",
       "33SZW@2                NaN              NaN            -0.00            -0.00   \n",
       "COG0774@1              NaN              NaN            -0.00            -0.00   \n",
       "COG5009@2              NaN              NaN            -0.01            -0.01   \n",
       "\n",
       "           arCOG00087@2157  arCOG07496@2157  \n",
       "COG3696@2            -0.01              NaN  \n",
       "COG0606@2            -0.01              NaN  \n",
       "33SZW@2              -0.00              NaN  \n",
       "COG0774@1            -0.00              NaN  \n",
       "COG5009@2            -0.01              NaN  \n",
       "\n",
       "[5 rows x 20141 columns]"
      ]
     },
     "execution_count": 115,
     "metadata": {},
     "output_type": "execute_result"
    }
   ],
   "source": [
    "#OBS: if there is no variability in a column, the correlation will be NA!\n",
    "correlation_matrix.head()\n",
    "#p_values.head()"
   ]
  },
  {
   "cell_type": "code",
   "execution_count": 116,
   "id": "1fe458ef-7a0c-4955-934e-63f3acb4d518",
   "metadata": {},
   "outputs": [],
   "source": [
    "#Save calculatons\n",
    "correlation_matrix.to_csv('data/spearman_corr_df_oxygen_gene-families_selected-filterNA.csv', index=True)"
   ]
  },
  {
   "cell_type": "code",
   "execution_count": 147,
   "id": "48f97000-f16d-4e30-a88b-4e20d1f3059b",
   "metadata": {},
   "outputs": [
    {
     "data": {
      "text/plain": [
       "(20141, 20141)"
      ]
     },
     "execution_count": 147,
     "metadata": {},
     "output_type": "execute_result"
    }
   ],
   "source": [
    "correlation_matrix.shape"
   ]
  },
  {
   "cell_type": "code",
   "execution_count": 102,
   "id": "2050b895-354a-478a-a2c8-37d85a6f8896",
   "metadata": {},
   "outputs": [],
   "source": [
    "#This is just for the mock dataset!\n",
    "#correlation_matrix = correlation_matrix.drop(columns=correlation_matrix.columns[0])\n",
    "#correlation_matrix = correlation_matrix.drop(index=correlation_matrix.index[0])"
   ]
  },
  {
   "cell_type": "code",
   "execution_count": 161,
   "id": "07f2bef8-9d2a-477b-a336-f5cb8d9eaa01",
   "metadata": {},
   "outputs": [
    {
     "data": {
      "text/plain": [
       "146504403"
      ]
     },
     "execution_count": 161,
     "metadata": {},
     "output_type": "execute_result"
    }
   ],
   "source": [
    "#Prepare for plot below\n",
    "#Populate down_triangle of the matrix and the 1.0 is diagonals with Na\n",
    "upper_triangle = correlation_matrix.where(np.triu(np.ones(correlation_matrix.shape), k=1).astype(bool))\n",
    "\n",
    "# Flatten the matrix and drop NaN values\n",
    "correlation_values = upper_triangle.stack().values\n",
    "len(correlation_values)\n",
    "\n",
    "#Checking code block above for my mock dataset of 99 columns\n",
    "#upper_triangle\n",
    "#len(upper_triangle)     #99\n",
    "#((99*99)/2) - 99/2      #4851.0\n",
    "#len(correlation_values) #4851"
   ]
  },
  {
   "cell_type": "code",
   "execution_count": 162,
   "id": "c8002140-0a9e-4598-a210-2202cd8574ad",
   "metadata": {},
   "outputs": [
    {
     "data": {
      "text/plain": [
       "(20141, 20141)"
      ]
     },
     "execution_count": 162,
     "metadata": {},
     "output_type": "execute_result"
    }
   ],
   "source": [
    "upper_triangle.shape"
   ]
  },
  {
   "cell_type": "code",
   "execution_count": 163,
   "id": "500b5e35-80da-4d48-bf59-40391d10df2e",
   "metadata": {},
   "outputs": [
    {
     "data": {
      "text/plain": [
       "False"
      ]
     },
     "execution_count": 163,
     "metadata": {},
     "output_type": "execute_result"
    }
   ],
   "source": [
    "any(np.isnan(x) for x in correlation_values)"
   ]
  },
  {
   "cell_type": "code",
   "execution_count": 167,
   "id": "48336f3c-e420-4628-bbb4-b286fe75a4ad",
   "metadata": {},
   "outputs": [
    {
     "data": {
      "text/plain": [
       "array([0.15, 0.29, 0.59, ..., 1.00, 1.00, 1.00])"
      ]
     },
     "execution_count": 167,
     "metadata": {},
     "output_type": "execute_result"
    }
   ],
   "source": [
    "# Plot the histogram\n",
    "correlation_values = correlation_values[(correlation_values < -0.1) | (correlation_values > 0.1)]\n",
    "correlation_values"
   ]
  },
  {
   "cell_type": "code",
   "execution_count": 168,
   "id": "4803611c-b485-430f-a0d3-072bfaaf9967",
   "metadata": {},
   "outputs": [
    {
     "data": {
      "image/png": "[encoded data removed]",
      "text/plain": [
       "<Figure size 640x480 with 1 Axes>"
      ]
     },
     "metadata": {},
     "output_type": "display_data"
    }
   ],
   "source": [
    "#Visualize distribution of correlations\n",
    "import matplotlib.pyplot as plt\n",
    "\n",
    "# Plot the histogram\n",
    "\n",
    "plt.hist(correlation_values, bins=bins[bins != 0], edgecolor='k', alpha=0.7);\n",
    "plt.title('Correlation of prokaryotes\\' COGs - oxygen (n_COGs = 20,141)')\n",
    "plt.xlabel('Sperman\\'s rank correlation value');\n",
    "plt.ylabel('Number of correlated pairs of COGs');\n",
    "#plt.yscale('log')\n",
    "\n",
    "#plt.savefig('figures/spearman_corr_df_oxygen_gene-families_selected-filterNA.png', dpi=300)  # Salvar o gráfico como imagem\n",
    "plt.savefig('figures/spearman_corr_df_oxygen_gene-families_selected-filterNA_0.10gap.png', dpi=300)  # Salvar o gráfico como imagem\n",
    "\n",
    "plt.show();"
   ]
  },
  {
   "cell_type": "markdown",
   "id": "5c977e50-c97b-43e9-9853-c8e427ff0bc5",
   "metadata": {},
   "source": [
    "## Join highly correlated features \n",
    "\n",
    "https://github.com/ProfHeydeFranca/BacterialData/blob/main/Join_Features.py"
   ]
  },
  {
   "cell_type": "code",
   "execution_count": null,
   "id": "600b42f3-95ec-4447-9eca-9a8a5d49349a",
   "metadata": {},
   "outputs": [],
   "source": []
  },
  {
   "cell_type": "code",
   "execution_count": null,
   "id": "a172771a-420a-44f5-a140-de3ccc08b466",
   "metadata": {},
   "outputs": [],
   "source": []
  },
  {
   "cell_type": "code",
   "execution_count": null,
   "id": "5fa68fd0-4569-416d-8721-5d3fc5b34029",
   "metadata": {},
   "outputs": [],
   "source": []
  }
 ],
 "metadata": {
  "kernelspec": {
   "display_name": "Python 3 (ipykernel)",
   "language": "python",
   "name": "python3"
  },
  "language_info": {
   "codemirror_mode": {
    "name": "ipython",
    "version": 3
   },
   "file_extension": ".py",
   "mimetype": "text/x-python",
   "name": "python",
   "nbconvert_exporter": "python",
   "pygments_lexer": "ipython3",
   "version": "3.12.4"
  }
 },
 "nbformat": 4,
 "nbformat_minor": 5
}
